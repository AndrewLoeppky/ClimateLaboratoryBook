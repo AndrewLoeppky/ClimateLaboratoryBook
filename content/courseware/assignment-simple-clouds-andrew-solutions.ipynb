{
 "cells": [
  {
   "cell_type": "markdown",
   "metadata": {},
   "source": [
    "# Assignment: Clouds in the Leaky Greenhouse Model\n",
    "\n",
    "This notebook is part of [The Climate Laboratory](https://brian-rose.github.io/ClimateLaboratoryBook) by [Brian E. J. Rose](http://www.atmos.albany.edu/facstaff/brose/index.html), University at Albany."
   ]
  },
  {
   "cell_type": "markdown",
   "metadata": {},
   "source": [
    "## Learning goals\n",
    "\n",
    "Students completing this assignment will gain the following skills and concepts:\n",
    "\n",
    "- Continued practice working with the Jupyter notebook\n",
    "- Familiarity with the toy \"leaky greenhouse\" model\n",
    "- Conceptual understanding of the role of clouds in the planetary energy budget"
   ]
  },
  {
   "cell_type": "markdown",
   "metadata": {},
   "source": [
    "## Instructions\n",
    "\n",
    "***This assignment requires some mathematics. You can present your work in this notebook, on hand-written paper, or a combination. Just make sure you communicate clearly which answers belong to which question.***\n",
    "\n",
    "For answers presented in the notebook, follow the usual procedures to ensure that your code is well commented and runs clearly without errors (see previous assignment instructions)."
   ]
  },
  {
   "cell_type": "markdown",
   "metadata": {},
   "source": [
    "## Introduction\n",
    "\n",
    "Consider the two-layer \"leaky greenhouse\" (or grey radiation) model from [these lecture notes](https://brian-rose.github.io/ClimateLaboratoryBook/courseware/elementary-greenhouse.html).\n",
    "\n",
    "Here you will use this model to investigate the **radiative effects of clouds**.\n",
    "\n",
    "Clouds simultaneously **reflect shortwave radiation** and **absorb longwave radiation**. These two effects often oppose each other in nature, and which one is stronger depends (among other things) on whether the clouds are **low** or **high** (i.e. in layer 0 or layer 1).\n",
    "\n",
    "For this question we will suppose (as we did in the lecture notes) that there is **no absorption of shortwave radiation** in the atmosphere."
   ]
  },
  {
   "cell_type": "markdown",
   "metadata": {},
   "source": [
    "## Question 1\n",
    "\n",
    "Suppose a cloud reflects a fraction $\\alpha_c$ of the shortwave beam incoming from above. $\\alpha_c$ is a number between 0 and 1. Provide a coherent argument (in words, sketches, and/or equations) for why the **shortwave** effects cloud should always be a **cooling** on the surface. Is this cooling effect different if the cloud is low or high? Explain."
   ]
  },
  {
   "cell_type": "markdown",
   "metadata": {},
   "source": [
    "```\n",
    "  \\ | /               No Clouds                                  \n",
    "  -SUN-\n",
    "  / | \\     B\n",
    "     \\     /\n",
    "      \\   /\n",
    "       A /\n",
    "  ------|----------\n",
    "        C\n",
    "```\n",
    "=============================================\n",
    "```\n",
    "\\ | /                 Clouds                                  \n",
    "-SUN-\n",
    "/ | \\\n",
    "  \\     E         \n",
    "   \\   /          I \n",
    "    \\ /          /\n",
    "     D____      / \n",
    "     /  _ \\___ /\n",
    "   _/  /  \\__  \\__\n",
    "  /_______________\\\n",
    "       \\     H \\\n",
    "        \\   /   \\   ...\n",
    "         F /     J /\n",
    "  --------|-------|-     \n",
    "          G       K\n",
    "```\n",
    "\n",
    "As long as the cloud albedo $\\alpha_c$ is higher than that of earth $\\alpha_e$ (a fair assumption), clouds will have a shortwave cooling effect on the planet. Let incoming radiation from the sun be $Q_s$, and trace the path of an incoming SW beam with and without clouds present. \n",
    "\n",
    "**Case 1: No Clouds**\n",
    "\n",
    "$\n",
    "Q_A = Q_s\n",
    "$\n",
    "\n",
    "$\n",
    "Q_B = \\alpha_e Q_A\n",
    "$\n",
    "\n",
    "$\n",
    "Q_C = (1-\\alpha_e)Q_A\n",
    "$\n",
    "\n",
    "total SW absorbed = $Q_C$\n",
    "\n",
    "total SW reflected = $Q_B$\n",
    "\n",
    "**Case 2: Clouds**\n",
    "\n",
    "$\n",
    "Q_D = Q_S\n",
    "$\n",
    "\n",
    "$\n",
    "Q_E = \\alpha_cQ_D\n",
    "$\n",
    "\n",
    "$\n",
    "Q_F = (1-\\alpha_c)Q_D\n",
    "$\n",
    "\n",
    "$\n",
    "Q_G = (1-\\alpha_e)Q_F\n",
    "$\n",
    "\n",
    "$\n",
    "Q_H = \\alpha_e Q_F\n",
    "$\n",
    "\n",
    "$\n",
    "Q_I = (1-\\alpha_c)Q_H\n",
    "$\n",
    "\n",
    "$\n",
    "Q_J = \\alpha_cQ_H\n",
    "$\n",
    "\n",
    "$\n",
    "Q_K = (1-\\alpha_e)Q_J\n",
    "$\n",
    "\n",
    "Total SW absorbed = $Q_G + Q_K + ...$\n",
    "\n",
    "Total SW reflected = $Q_E + Q_I + ...$\n",
    "\n",
    "**Conclusion:**\n",
    "\n",
    "Just look at the first term: $Q_E > Q_B$ since $\\alpha_c > \\alpha_e$, and we can neglect all the secondary transmission/reflection off the bottom of the cloud. If more SW is reflected then less is absorbed (conservation of energy) at the surface $\\rightarrow$ the planet cools. There is no altitude dependence to this effect (unless we worry about increasing ice content in higher/colder clouds, which does affect the SW cloud albedo)."
   ]
  },
  {
   "cell_type": "markdown",
   "metadata": {},
   "source": [
    "## Question 2\n",
    "\n",
    "Because the liquid water droplets in a cloud are effective absorbers of longwave radiation, a cloud will **increase the longwave absorptivity / emissivity** of the layer in which it resides. \n",
    "\n",
    "We can represent this in the two-layer atmosphere by letting the absorptivity of a cloudy layer be $\\epsilon + \\epsilon_c$, where $\\epsilon_c$ is an additional absorptivity due to the cloud. Derive a formula (i.e. an algebraic expression) for the OLR in terms of the temperatures $T_s, T_0, T_1$ and the emissivities $\\epsilon, \\epsilon_c$ for two different cases:\n",
    "\n",
    "- a low cloud (the additional $\\epsilon_c$ is in layer 0)\n",
    "- a high cloud (the additional $\\epsilon_c$ is in layer 1)"
   ]
  },
  {
   "cell_type": "markdown",
   "metadata": {},
   "source": [
    "Just follow the ```elementary-greenhouse.md``` notes and replace $\\epsilon$ with $\\epsilon + \\epsilon_c$ in the appropriate layer:\n",
    "\n",
    "### Low Cloud:\n",
    "\n",
    "Surface to layer 0:\n",
    "\n",
    "$$U_0 = \\sigma T_s^4$$\n",
    "\n",
    "Layer 0 to layer 1 (add $\\epsilon_c$ to the zeroth layer):\n",
    "\n",
    "$$U_1 = (1-\\epsilon - \\epsilon_c) U_0 + (\\epsilon + \\epsilon_c) \\sigma T_0^4$$\n",
    "\n",
    "Beyond layer 1:\n",
    "\n",
    "$$U_2 = (1-\\epsilon) U_1 + \\epsilon \\sigma T_1^4 = OLR$$\n",
    "\n",
    "### High Cloud:\n",
    "\n",
    "Surface to layer 0:\n",
    "\n",
    "$$U_0 = \\sigma T_s^4$$\n",
    "\n",
    "Layer 0 to layer 1 :\n",
    "\n",
    "$$U_1 = (1-\\epsilon) U_0 + \\epsilon \\sigma T_0^4$$\n",
    "\n",
    "Beyond layer 1 (add $\\epsilon_c$ to the first layer):\n",
    "\n",
    "$$U_2 = (1-\\epsilon-\\epsilon_c) U_1 + (\\epsilon + \\epsilon_c) \\sigma T_1^4 = OLR$$"
   ]
  },
  {
   "cell_type": "markdown",
   "metadata": {},
   "source": [
    "## Question 3\n",
    "\n",
    "Now use the tuned numerical values we used in class:\n",
    "\n",
    "- $T_s = 288$ K\n",
    "- $T_0 = 275$ K\n",
    "- $T_1 = 230$ K\n",
    "- $\\epsilon = 0.586$\n",
    "\n",
    "and take $\\epsilon_c = 0.2$\n",
    "\n",
    "(a) Repeat the following for both a high cloud and a low cloud:\n",
    "\n",
    "- Calculate the **difference in OLR** due to the presence of the cloud, compared to the case with no cloud. \n",
    "- Does this represent a warming or cooling effect?\n",
    "\n",
    "(b) Which one has a larger effect, the low cloud or the high cloud?"
   ]
  },
  {
   "cell_type": "code",
   "execution_count": 15,
   "metadata": {},
   "outputs": [
    {
     "name": "stdout",
     "output_type": "stream",
     "text": [
      "No Clouds:   210.82982485943705 W/m2\n",
      "Low Clouds:  218.75285321001095 W/m2\n",
      "High Clouds: 185.63176792251096 W/m2\n"
     ]
    }
   ],
   "source": [
    "Ts = 288.\n",
    "T0 = 275.\n",
    "T1 = 230.\n",
    "epsilon = 0.586\n",
    "epsilon_c = 0.2\n",
    "sigma = 5.67e-8\n",
    "\n",
    "## No cloud\n",
    "U0 = epsilon * sigma * Ts ** 4\n",
    "U1 = (1 - epsilon) * U0 + epsilon * sigma * T0 ** 4\n",
    "U2 = (1 - epsilon) * U1 + epsilon * sigma * T1 ** 4\n",
    "\n",
    "## Low cloud\n",
    "U1_lc = (1 - epsilon - epsilon_c) * U0 + (epsilon + epsilon_c) * sigma * T0 ** 4\n",
    "U2_lc = (1 - epsilon) * U1_lc + epsilon * sigma * T1 ** 4\n",
    "\n",
    "## High cloud\n",
    "U1_hc = (1 - epsilon) * U0 + epsilon * sigma * T0 ** 4\n",
    "U2_hc = (1 - epsilon - epsilon_c) * U1_hc + (epsilon + epsilon_c) * sigma * T1 ** 4\n",
    "\n",
    "print(f'No Clouds:   {U2} W/m2')\n",
    "print(f'Low Clouds:  {U2_lc} W/m2')\n",
    "print(f'High Clouds: {U2_hc} W/m2')"
   ]
  },
  {
   "cell_type": "markdown",
   "metadata": {},
   "source": [
    "## Question 4\n",
    "\n",
    "Based on your results in questions 1-3, which do you think is more likely to produce a **net warming effect** on the climate: a low cloud or a high cloud? Give an explanation in words."
   ]
  },
  {
   "cell_type": "code",
   "execution_count": null,
   "metadata": {},
   "outputs": [],
   "source": []
  },
  {
   "cell_type": "markdown",
   "metadata": {},
   "source": [
    "## Question 5\n",
    "\n",
    "How would your answer change if the atmosphere were **isothermal**, i.e. $T_s = T_0 = T_1$?"
   ]
  },
  {
   "cell_type": "code",
   "execution_count": null,
   "metadata": {},
   "outputs": [],
   "source": []
  },
  {
   "cell_type": "markdown",
   "metadata": {},
   "source": [
    "____________\n",
    "\n",
    "## Credits\n",
    "\n",
    "This notebook is part of [The Climate Laboratory](https://brian-rose.github.io/ClimateLaboratoryBook), an open-source textbook developed and maintained by [Brian E. J. Rose](http://www.atmos.albany.edu/facstaff/brose/index.html), University at Albany.\n",
    "\n",
    "It is licensed for free and open consumption under the\n",
    "[Creative Commons Attribution 4.0 International (CC BY 4.0)](https://creativecommons.org/licenses/by/4.0/) license.\n",
    "\n",
    "Development of these notes and the [climlab software](https://github.com/brian-rose/climlab) is partially supported by the National Science Foundation under award AGS-1455071 to Brian Rose. Any opinions, findings, conclusions or recommendations expressed here are mine and do not necessarily reflect the views of the National Science Foundation.\n",
    "____________"
   ]
  },
  {
   "cell_type": "code",
   "execution_count": null,
   "metadata": {},
   "outputs": [],
   "source": []
  }
 ],
 "metadata": {
  "jupytext": {
   "notebook_metadata_filter": "all,-language_info,-toc,-latex_envs"
  },
  "kernelspec": {
   "display_name": "Python 3",
   "language": "python",
   "name": "python3"
  },
  "language_info": {
   "codemirror_mode": {
    "name": "ipython",
    "version": 3
   },
   "file_extension": ".py",
   "mimetype": "text/x-python",
   "name": "python",
   "nbconvert_exporter": "python",
   "pygments_lexer": "ipython3",
   "version": "3.8.6"
  }
 },
 "nbformat": 4,
 "nbformat_minor": 4
}
