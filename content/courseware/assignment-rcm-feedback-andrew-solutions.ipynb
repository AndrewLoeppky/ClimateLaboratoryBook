{
 "cells": [
  {
   "cell_type": "markdown",
   "metadata": {},
   "source": [
    "# Assignment: Feedbacks in the Radiative-Convective Model\n",
    "\n",
    "This notebook is part of [The Climate Laboratory](https://brian-rose.github.io/ClimateLaboratoryBook) by [Brian E. J. Rose](http://www.atmos.albany.edu/facstaff/brose/index.html), University at Albany."
   ]
  },
  {
   "cell_type": "markdown",
   "metadata": {},
   "source": [
    "## Learning goals\n",
    "\n",
    "Students completing this assignment will gain the following skills and concepts:\n",
    "\n",
    "- Familiarity with setting up and running a single-column Radiative-Convective Model using climlab\n",
    "- Familiarity with plotting and interpreting vertical air temperature data on meteorological Skew-T charts\n",
    "- Use of climlab to perform controlled parameter-sensitivity experiments\n",
    "- Understanding of the lapse rate feedback concept\n",
    "- Calculation of radiative forcing and climate feedback parameters"
   ]
  },
  {
   "cell_type": "markdown",
   "metadata": {},
   "source": [
    "## Question 1\n",
    "\n",
    "Here you look at the effects of doubling CO$_2$ in the single-column Radiative-Convective model. \n",
    "\n",
    "*This exercise just repeats what we did in the lecture notes. You want to ensure that you can reproduce the same results before starting the next question, because you will need these results below.*\n",
    "\n",
    "Following the lecture notes on climate sensitivity, do the following:\n",
    "\n",
    "- set up a single-column radiative-convective model with specific humidity taken from the CESM control simulation\n",
    "- Run this control model out to equilibrium\n",
    "- Using a clone of the control model, calculate the stratosphere-adjusted radiative forcing $\\Delta R$.\n",
    "- Using another model clone, timestep the model out to equilibrium **with fixed specific humidity**\n",
    "- Calculate the no-feedback Equilibrium Climate Sensitivity (ECS)\n",
    "- Also calculate the no-feedback climate response parameter $\\lambda_0$\n",
    "\n",
    "Verify and show that you get the same results as we did in the lecture notes. "
   ]
  },
  {
   "cell_type": "markdown",
   "metadata": {},
   "source": [
    "*Copy Brian's code to set up a model*"
   ]
  },
  {
   "cell_type": "code",
   "execution_count": 2,
   "metadata": {},
   "outputs": [],
   "source": [
    "%matplotlib inline\n",
    "import numpy as np\n",
    "import matplotlib.pyplot as plt\n",
    "import xarray as xr\n",
    "from metpy.plots import SkewT\n",
    "import climlab"
   ]
  },
  {
   "cell_type": "code",
   "execution_count": 3,
   "metadata": {},
   "outputs": [],
   "source": [
    "#  This code is used just to create the skew-T plot of global, annual mean air temperature\n",
    "ncep_url = \"http://www.esrl.noaa.gov/psd/thredds/dodsC/Datasets/ncep.reanalysis.derived/\"\n",
    "ncep_air = xr.open_dataset( ncep_url + \"pressure/air.mon.1981-2010.ltm.nc\", use_cftime=True)\n",
    "#  Take global, annual average \n",
    "coslat = np.cos(np.deg2rad(ncep_air.lat))\n",
    "weight = coslat / coslat.mean(dim='lat')\n",
    "Tglobal = (ncep_air.air * weight).mean(dim=('lat','lon','time'))\n",
    "\n",
    "#  Resuable function to plot the temperature data on a Skew-T chart\n",
    "def make_skewT():\n",
    "    fig = plt.figure(figsize=(9, 9))\n",
    "    skew = SkewT(fig, rotation=30)\n",
    "    skew.plot(Tglobal.level, Tglobal, color='black', linestyle='-', linewidth=2, label='Observations')\n",
    "    skew.ax.set_ylim(1050, 10)\n",
    "    skew.ax.set_xlim(-90, 45)\n",
    "    # Add the relevant special lines\n",
    "    skew.plot_dry_adiabats(linewidth=0.5)\n",
    "    skew.plot_moist_adiabats(linewidth=0.5)\n",
    "    #skew.plot_mixing_lines()\n",
    "    skew.ax.legend()\n",
    "    skew.ax.set_xlabel('Temperature (degC)', fontsize=14)\n",
    "    skew.ax.set_ylabel('Pressure (hPa)', fontsize=14)\n",
    "    return skew\n",
    "\n",
    "#  and a function to add extra profiles to this chart\n",
    "def add_profile(skew, model, linestyle='-', color=None):\n",
    "    line = skew.plot(model.lev, model.Tatm - climlab.constants.tempCtoK,\n",
    "             label=model.name, linewidth=2)[0]\n",
    "    skew.plot(1000, model.Ts - climlab.constants.tempCtoK, 'o', \n",
    "              markersize=8, color=line.get_color())\n",
    "    skew.ax.legend()\n",
    "\n",
    "# Get the water vapor data from CESM output\n",
    "cesm_data_path = \"http://thredds.atmos.albany.edu:8080/thredds/dodsC/CESMA/\"\n",
    "atm_control = xr.open_dataset(cesm_data_path + \"cpl_1850_f19/concatenated/cpl_1850_f19.cam.h0.nc\")\n",
    "# Take global, annual average of the specific humidity\n",
    "weight_factor = atm_control.gw / atm_control.gw.mean(dim='lat')\n",
    "Qglobal = (atm_control.Q * weight_factor).mean(dim=('lat','lon','time'))"
   ]
  },
  {
   "cell_type": "code",
   "execution_count": 4,
   "metadata": {},
   "outputs": [
    {
     "name": "stdout",
     "output_type": "stream",
     "text": [
      "Opened data from C:\\Users\\Owner\\mini37\\envs\\climlab-courseware\\lib\\site-packages\\climlab\\radiation\\data\\ozone\\apeozone_cam3_5_54.nc\n"
     ]
    }
   ],
   "source": [
    "#  Make a model on same vertical domain as the GCM\n",
    "mystate = climlab.column_state(lev=Qglobal.lev, water_depth=2.5)\n",
    "#  Build the radiation model -- just like we already did\n",
    "rad = climlab.radiation.RRTMG(name='Radiation',\n",
    "                              state=mystate, \n",
    "                              specific_humidity=Qglobal.values,\n",
    "                              timestep = climlab.constants.seconds_per_day,\n",
    "                              albedo = 0.25,  # surface albedo, tuned to give reasonable ASR for reference cloud-free model\n",
    "                             )\n",
    "#  Now create the convection model\n",
    "conv = climlab.convection.ConvectiveAdjustment(name='Convection',\n",
    "                                               state=mystate,\n",
    "                                               adj_lapse_rate=6.5,\n",
    "                                               timestep=rad.timestep,\n",
    "                                              )\n",
    "#  Here is where we build the model by coupling together the two components\n",
    "rcm = climlab.couple([rad, conv], name='Radiative-Convective Model')"
   ]
  },
  {
   "cell_type": "code",
   "execution_count": 5,
   "metadata": {},
   "outputs": [
    {
     "name": "stdout",
     "output_type": "stream",
     "text": [
      "climlab Process of type <class 'climlab.process.time_dependent_process.TimeDependentProcess'>. \n",
      "State variables and domain shapes: \n",
      "  Ts: (1,) \n",
      "  Tatm: (26,) \n",
      "The subprocess tree: \n",
      "Radiative-Convective Model: <class 'climlab.process.time_dependent_process.TimeDependentProcess'>\n",
      "   Radiation: <class 'climlab.radiation.rrtm.rrtmg.RRTMG'>\n",
      "      SW: <class 'climlab.radiation.rrtm.rrtmg_sw.RRTMG_SW'>\n",
      "      LW: <class 'climlab.radiation.rrtm.rrtmg_lw.RRTMG_LW'>\n",
      "   Convection: <class 'climlab.convection.convadj.ConvectiveAdjustment'>\n",
      "\n"
     ]
    }
   ],
   "source": [
    "print(rcm)"
   ]
  },
  {
   "cell_type": "code",
   "execution_count": 10,
   "metadata": {},
   "outputs": [
    {
     "data": {
      "text/plain": [
       "0.000348"
      ]
     },
     "execution_count": 10,
     "metadata": {},
     "output_type": "execute_result"
    }
   ],
   "source": [
    "rcm.subprocess['Radiation'].absorber_vmr['CO2']"
   ]
  },
  {
   "cell_type": "markdown",
   "metadata": {},
   "source": [
    "*Run this model out to equilibrium*"
   ]
  },
  {
   "cell_type": "code",
   "execution_count": 8,
   "metadata": {},
   "outputs": [
    {
     "name": "stdout",
     "output_type": "stream",
     "text": [
      "Integrating for 1826 steps, 1826.2110000000002 days, or 5 years.\n",
      "Total elapsed time is 9.998844602294039 years.\n"
     ]
    }
   ],
   "source": [
    "rcm.integrate_years(5)"
   ]
  },
  {
   "cell_type": "code",
   "execution_count": 9,
   "metadata": {},
   "outputs": [
    {
     "data": {
      "text/plain": [
       "Field([-3.36228823e-11])"
      ]
     },
     "execution_count": 9,
     "metadata": {},
     "output_type": "execute_result"
    }
   ],
   "source": [
    "rcm.ASR - rcm.OLR"
   ]
  },
  {
   "cell_type": "markdown",
   "metadata": {},
   "source": [
    "*Using a clone of the control model, calculate the stratosphere-adjusted radiative forcing $\\Delta R$.*"
   ]
  },
  {
   "cell_type": "code",
   "execution_count": 11,
   "metadata": {},
   "outputs": [],
   "source": [
    "# Make an exact clone with same temperatures\n",
    "rcm_2xCO2 = climlab.process_like(rcm)\n",
    "rcm_2xCO2.name = 'Radiative-Convective Model (2xCO2 initial)'"
   ]
  },
  {
   "cell_type": "code",
   "execution_count": 12,
   "metadata": {},
   "outputs": [
    {
     "data": {
      "text/plain": [
       "0.000348"
      ]
     },
     "execution_count": 12,
     "metadata": {},
     "output_type": "execute_result"
    }
   ],
   "source": [
    "#  Check to see that we indeed have the same CO2 amount\n",
    "rcm_2xCO2.subprocess['Radiation'].absorber_vmr['CO2']"
   ]
  },
  {
   "cell_type": "code",
   "execution_count": 13,
   "metadata": {},
   "outputs": [],
   "source": [
    "#  Now double it!\n",
    "rcm_2xCO2.subprocess['Radiation'].absorber_vmr['CO2'] *= 2"
   ]
  },
  {
   "cell_type": "code",
   "execution_count": 14,
   "metadata": {},
   "outputs": [
    {
     "data": {
      "text/plain": [
       "0.000696"
      ]
     },
     "execution_count": 14,
     "metadata": {},
     "output_type": "execute_result"
    }
   ],
   "source": [
    "#  and verify\n",
    "rcm_2xCO2.subprocess['Radiation'].absorber_vmr['CO2']"
   ]
  },
  {
   "cell_type": "code",
   "execution_count": 15,
   "metadata": {},
   "outputs": [],
   "source": [
    "rcm_2xCO2.compute_diagnostics()"
   ]
  },
  {
   "cell_type": "code",
   "execution_count": 16,
   "metadata": {},
   "outputs": [
    {
     "data": {
      "text/plain": [
       "Field([0.06274162])"
      ]
     },
     "execution_count": 16,
     "metadata": {},
     "output_type": "execute_result"
    }
   ],
   "source": [
    "rcm_2xCO2.ASR - rcm.ASR"
   ]
  },
  {
   "cell_type": "code",
   "execution_count": 17,
   "metadata": {},
   "outputs": [
    {
     "data": {
      "text/plain": [
       "Field([-2.11458541])"
      ]
     },
     "execution_count": 17,
     "metadata": {},
     "output_type": "execute_result"
    }
   ],
   "source": [
    "rcm_2xCO2.OLR - rcm.OLR"
   ]
  },
  {
   "cell_type": "code",
   "execution_count": 18,
   "metadata": {},
   "outputs": [
    {
     "data": {
      "text/plain": [
       "Field([2.17732704])"
      ]
     },
     "execution_count": 18,
     "metadata": {},
     "output_type": "execute_result"
    }
   ],
   "source": [
    "DeltaR_instant = (rcm_2xCO2.ASR - rcm_2xCO2.OLR) - (rcm.ASR - rcm.OLR)\n",
    "DeltaR_instant"
   ]
  },
  {
   "cell_type": "code",
   "execution_count": 19,
   "metadata": {},
   "outputs": [],
   "source": [
    "rcm_2xCO2_strat = climlab.process_like(rcm_2xCO2)\n",
    "rcm_2xCO2_strat.name = 'Radiative-Convective Model (2xCO2 stratosphere-adjusted)'\n",
    "for n in range(1000):\n",
    "    rcm_2xCO2_strat.step_forward()\n",
    "    # hold tropospheric and surface temperatures fixed\n",
    "    rcm_2xCO2_strat.Tatm[13:] = rcm.Tatm[13:]\n",
    "    rcm_2xCO2_strat.Ts[:] = rcm.Ts[:]"
   ]
  },
  {
   "cell_type": "code",
   "execution_count": 23,
   "metadata": {},
   "outputs": [
    {
     "data": {
      "text/plain": [
       "Field([4.28837377])"
      ]
     },
     "execution_count": 23,
     "metadata": {},
     "output_type": "execute_result"
    }
   ],
   "source": [
    "DeltaR = (rcm_2xCO2_strat.ASR - rcm_2xCO2_strat.OLR) - (rcm.ASR - rcm.OLR)\n",
    "DeltaR"
   ]
  },
  {
   "cell_type": "markdown",
   "metadata": {},
   "source": [
    "*My value for stratosphere-adjusted $\\Delta R$ is 4.3 W/m$^2$, exactly the same as the lecture notes. (because I just copied them)*\n",
    "\n",
    "*Using another model clone, timestep the model out to equilibrium with fixed specific humidity*"
   ]
  },
  {
   "cell_type": "code",
   "execution_count": 24,
   "metadata": {},
   "outputs": [],
   "source": [
    "#  actual specific humidity\n",
    "q = rcm.subprocess['Radiation'].specific_humidity\n",
    "#  saturation specific humidity (a function of temperature and pressure)\n",
    "qsat = climlab.utils.thermo.qsat(rcm.Tatm, rcm.lev)\n",
    "#  Relative humidity\n",
    "rh = q/qsat"
   ]
  },
  {
   "cell_type": "code",
   "execution_count": 25,
   "metadata": {},
   "outputs": [],
   "source": [
    "rcm_2xCO2_h2o = climlab.process_like(rcm_2xCO2)\n",
    "rcm_2xCO2_h2o.name = 'Radiative-Convective Model (2xCO2 equilibrium with H2O feedback)'"
   ]
  },
  {
   "cell_type": "code",
   "execution_count": 26,
   "metadata": {},
   "outputs": [],
   "source": [
    "for n in range(2000):\n",
    "    # At every timesteprcm_2xCO2_h2o = climlab.process_like(rcm_2xCO2)\n",
    "\n",
    "    # we calculate the new saturation specific humidity for the new temperature\n",
    "    #  and change the water vapor in the radiation model\n",
    "    #  so that relative humidity is always the same\n",
    "    qsat = climlab.utils.thermo.qsat(rcm_2xCO2_h2o.Tatm, rcm_2xCO2_h2o.lev)\n",
    "    rcm_2xCO2_h2o.subprocess['Radiation'].specific_humidity[:] = rh * qsat\n",
    "    rcm_2xCO2_h2o.step_forward()"
   ]
  },
  {
   "cell_type": "code",
   "execution_count": 29,
   "metadata": {},
   "outputs": [
    {
     "data": {
      "text/plain": [
       "Field([-1.73179842e-07])"
      ]
     },
     "execution_count": 29,
     "metadata": {},
     "output_type": "execute_result"
    }
   ],
   "source": [
    "# Check for energy balance\n",
    "rcm_2xCO2_h2o.ASR - rcm_2xCO2_h2o.OLR"
   ]
  },
  {
   "cell_type": "markdown",
   "metadata": {},
   "source": [
    "*Calculate the no-feedback Equilibrium Climate Sensitivity (ECS)*"
   ]
  },
  {
   "cell_type": "code",
   "execution_count": 32,
   "metadata": {},
   "outputs": [
    {
     "name": "stdout",
     "output_type": "stream",
     "text": [
      "Integrating for 1826 steps, 1826.2110000000002 days, or 5 years.\n",
      "Total elapsed time is 17.736176159271846 years.\n"
     ]
    }
   ],
   "source": [
    "rcm_2xCO2_eq = climlab.process_like(rcm_2xCO2_strat)\n",
    "rcm_2xCO2_eq.name = 'Radiative-Convective Model (2xCO2 equilibrium)'\n",
    "rcm_2xCO2_eq.integrate_years(5)"
   ]
  },
  {
   "cell_type": "code",
   "execution_count": 35,
   "metadata": {},
   "outputs": [
    {
     "data": {
      "text/plain": [
       "Field([1.29984831])"
      ]
     },
     "execution_count": 35,
     "metadata": {},
     "output_type": "execute_result"
    }
   ],
   "source": [
    "ECS_nofeedback = rcm_2xCO2_eq.Ts - rcm.Ts\n",
    "ECS_nofeedback"
   ]
  },
  {
   "cell_type": "markdown",
   "metadata": {},
   "source": [
    "*again, my value is identical to the notes*\n",
    "\n",
    "*Also calculate the no-feedback climate response parameter $\\lambda_0$*"
   ]
  },
  {
   "cell_type": "code",
   "execution_count": 36,
   "metadata": {},
   "outputs": [
    {
     "data": {
      "text/plain": [
       "Field([3.29913401])"
      ]
     },
     "execution_count": 36,
     "metadata": {},
     "output_type": "execute_result"
    }
   ],
   "source": [
    "lambda0 = DeltaR / ECS_nofeedback\n",
    "lambda0"
   ]
  },
  {
   "cell_type": "markdown",
   "metadata": {},
   "source": [
    "*For fun/completeness, also calculate the ECS with water vapour feedback and compare with the lecture notes*"
   ]
  },
  {
   "cell_type": "code",
   "execution_count": 37,
   "metadata": {},
   "outputs": [
    {
     "data": {
      "text/plain": [
       "Field([2.98902357])"
      ]
     },
     "execution_count": 37,
     "metadata": {},
     "output_type": "execute_result"
    }
   ],
   "source": [
    "ECS = rcm_2xCO2_h2o.Ts - rcm.Ts\n",
    "ECS"
   ]
  },
  {
   "cell_type": "markdown",
   "metadata": {},
   "source": [
    "*My ECS is the same as Brian's at 3 W/m$^2$*"
   ]
  },
  {
   "cell_type": "markdown",
   "metadata": {},
   "source": [
    "## Question 2: combined lapse rate and water vapor feedback in the RCM\n",
    "\n",
    "### Instructions\n",
    "\n",
    "A typical, expected feature of global warming is that the **upper troposphere warms more than the surface**. (Later we will see that this does occur in the CESM simulations).\n",
    "\n",
    "This feature is **not represented in our radiative-convective model**, which is forced to a single prescribed lapse rate due to our convective adjustment.\n",
    "\n",
    "Here you will suppose that other physical processes modify this lapse rate as the climate warms. \n",
    "\n",
    "**Repeat the RCM global warming calculation, but implement two different feedbacks:**\n",
    "\n",
    "- a water vapor feedback using **fixed relative humidity**\n",
    "- a **lapse rate feedback** using this formula:\n",
    "\n",
    "$$ \\Gamma = \\Gamma_{ref} - (0.3 \\text{ km}) \\Delta T_s $$\n",
    "\n",
    "where $\\Gamma_{ref}$ is the critical lapse rate you used in your control model, probably 6.5 K / km, and $\\Delta T_s$ is the **current value of the surface warming relative to the control** in units of K. \n",
    "\n",
    "So, for example if the model has warmed by 1 K at the surface, then our parameterization says that the critical lapse rate should be 6.5 - 0.3 = 6.2 K / km.\n",
    "\n",
    "Follow the example in the lecture notes where we implemented the fixed relative humidity. In addition to adjusting the `specific_humidity` at each timestep, you should also change the attribute\n",
    "\n",
    "```\n",
    "adj_lapse_rate\n",
    "```\n",
    "of the convection process at each timestep.\n",
    "\n",
    "For example, if you have a model called `mymodel` that contains a `ConvectiveAdjustment` process called `Convection`:\n",
    "```\n",
    "mymodel.subprocess['Convection'].adj_lapse_rate = newvalue\n",
    "```\n",
    "where `newvalue` is a number in K / km.\n",
    "\n",
    "### Specific questions:\n",
    "\n",
    "1. Make a nice skew-T plot that shows three temperature profiles:\n",
    "    - RCM control\n",
    "    - RCM, equilibrium after doubling CO$_2$ without feedback\n",
    "    - RCM, equilibrium after doubling CO$_2$ with combined water vapor and lapse rate feedback\n",
    "2. Based on your plot, where in the column do you find the greatest warming?\n",
    "3. Calculate the ECS of the new version of the model with combined water vapor and lapse rate feedback\n",
    "4. Is this sensitivity larger or smaller than the \"no feedback\" ECS? Is it larger or smaller than the ECS with water vapor feedback alone (which we calculated in the lecture notes)?\n",
    "5. Calculate the combined feedback parameter for (water vapor plus lapse rate).\n",
    "6. Compare this result to the IPCC figure with feedback results from comprehensive models in our lecture notes (labeled \"WV+LR\"). Do you find a similar number?\n",
    "7. Would you describe the **lapse rate feedback** as positive or negative?\n",
    "\n"
   ]
  },
  {
   "cell_type": "code",
   "execution_count": 39,
   "metadata": {},
   "outputs": [],
   "source": [
    "# use the same control rcm and non-feedback models as above, and create a new clone for combined feedbacks\n",
    "rcm_2xCO2_wv_lr = climlab.process_like(rcm)\n",
    "rcm_2xCO2_wv_lr.name = 'RCM (2xCO2 initial, water vapor and lapse rate feedback)'\n",
    "rcm_2xCO2_wv_lr.subprocess['Radiation'].absorber_vmr['CO2'] *= 2 # double the CO2"
   ]
  },
  {
   "cell_type": "code",
   "execution_count": 41,
   "metadata": {},
   "outputs": [],
   "source": [
    "## copy the specific humididy feedback code\n",
    "q = rcm_2xCO2_wv_lr.subprocess['Radiation'].specific_humidity\n",
    "#  saturation specific humidity (a function of temperature and pressure)\n",
    "qsat = climlab.utils.thermo.qsat(rcm_2xCO2_wv_lr.Tatm, rcm_2xCO2_wv_lr.lev)\n",
    "#  Relative humidity\n",
    "rh = q/qsat"
   ]
  },
  {
   "cell_type": "code",
   "execution_count": 44,
   "metadata": {},
   "outputs": [
    {
     "name": "stdout",
     "output_type": "stream",
     "text": [
      "6.5\n"
     ]
    }
   ],
   "source": [
    "## get reference feedback from rcm control\n",
    "gamma_ref = rcm.subprocess['Convection'].adj_lapse_rate\n",
    "print(gamma_ref)"
   ]
  },
  {
   "cell_type": "code",
   "execution_count": null,
   "metadata": {},
   "outputs": [],
   "source": [
    "for n in range(2000):\n",
    "    # At every timesteprcm_2xCO2_h2o = climlab.process_like(rcm_2xCO2)\n",
    "\n",
    "    # do the water vapor feedback (copied from above):\n",
    "    q = rcm_2xCO2_wv_lr.subprocess['Radiation'].specific_humidity\n",
    "    qsat = climlab.utils.thermo.qsat(rcm_2xCO2_wv_lr.Tatm, rcm_2xCO2_wv_lr.lev)\n",
    "    rh = q/qsat\n",
    "    rcm_2xCO2_wv_lr.subprocess['Radiation'].specific_humidity[:] = rh * qsat\n",
    "    \n",
    "    # do the lapse rate feedback:\n",
    "    Tsurf = \n",
    "    rcm_2xCO2_wv_lr.subprocess['Convection'].adj_lapse_rate = newvalue\n",
    "    \n",
    "    \n",
    "    rcm_2xCO2_h2o.step_forward()"
   ]
  },
  {
   "cell_type": "code",
   "execution_count": null,
   "metadata": {},
   "outputs": [],
   "source": []
  },
  {
   "cell_type": "markdown",
   "metadata": {},
   "source": [
    "____________\n",
    "\n",
    "## Credits\n",
    "\n",
    "This notebook is part of [The Climate Laboratory](https://brian-rose.github.io/ClimateLaboratoryBook), an open-source textbook developed and maintained by [Brian E. J. Rose](http://www.atmos.albany.edu/facstaff/brose/index.html), University at Albany.\n",
    "\n",
    "It is licensed for free and open consumption under the\n",
    "[Creative Commons Attribution 4.0 International (CC BY 4.0)](https://creativecommons.org/licenses/by/4.0/) license.\n",
    "\n",
    "Development of these notes and the [climlab software](https://github.com/brian-rose/climlab) is partially supported by the National Science Foundation under award AGS-1455071 to Brian Rose. Any opinions, findings, conclusions or recommendations expressed here are mine and do not necessarily reflect the views of the National Science Foundation.\n",
    "____________"
   ]
  },
  {
   "cell_type": "code",
   "execution_count": null,
   "metadata": {},
   "outputs": [],
   "source": []
  }
 ],
 "metadata": {
  "kernelspec": {
   "display_name": "Python 3",
   "language": "python",
   "name": "python3"
  },
  "language_info": {
   "codemirror_mode": {
    "name": "ipython",
    "version": 3
   },
   "file_extension": ".py",
   "mimetype": "text/x-python",
   "name": "python",
   "nbconvert_exporter": "python",
   "pygments_lexer": "ipython3",
   "version": "3.7.9"
  }
 },
 "nbformat": 4,
 "nbformat_minor": 4
}
