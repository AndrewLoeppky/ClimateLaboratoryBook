{
 "cells": [
  {
   "cell_type": "markdown",
   "metadata": {},
   "source": [
    "# Introducing the Community Earth System Model (CESM)\n",
    "\n",
    "This notebook is part of [The Climate Laboratory](https://brian-rose.github.io/ClimateLaboratoryBook) by [Brian E. J. Rose](http://www.atmos.albany.edu/facstaff/brose/index.html), University at Albany."
   ]
  },
  {
   "cell_type": "markdown",
   "metadata": {},
   "source": [
    "____________\n",
    "## About the CESM\n",
    "____________"
   ]
  },
  {
   "cell_type": "markdown",
   "metadata": {
    "slideshow": {
     "slide_type": "slide"
    }
   },
   "source": [
    "### What is it?\n",
    "\n",
    "- CESM is one of a handful of complex coupled GCMs that are used as part of the IPCC process.\n",
    "- Developed and maintained at NCAR (Boulder CO) by a group of climate scientists and software engineers.\n",
    "- “Community” refers to the fact that the code is open-source, with new pieces contributed by a wide variety of users. \n",
    "\n",
    "I use CESM in my own research. We are going to be using CESM in this course. For lots more information about CESM:\n",
    "\n",
    "http://www.cesm.ucar.edu/models/"
   ]
  },
  {
   "cell_type": "markdown",
   "metadata": {
    "slideshow": {
     "slide_type": "slide"
    }
   },
   "source": [
    "### Key components of CESM:\n",
    "\n",
    "see http://www.cesm.ucar.edu/models/cesm1.2/ for more info\n",
    " \n",
    " - Atmospheric model (AGCM)\n",
    "     - Community Atmsophere Model (CAM)\n",
    " - Ocean model (OGCM)\n",
    "     - Parallel Ocean Program (POP)\n",
    " - Land surface model\n",
    "     - Community Land Model (CLM)\n",
    " - Sea ice model\n",
    "     - Community Ice CodE (CICE)\n",
    "     \n",
    "The software is somewhat modular, so different submodels can be combined together depending on the nature of the scientific problem at hand and the available computer power."
   ]
  },
  {
   "cell_type": "markdown",
   "metadata": {
    "slideshow": {
     "slide_type": "-"
    }
   },
   "source": [
    "Recall that we saw this schematic of different ways to represent the ocean in climate models:"
   ]
  },
  {
   "cell_type": "markdown",
   "metadata": {
    "slideshow": {
     "slide_type": "slide"
    }
   },
   "source": [
    "____________\n",
    "<a id='section6'></a>\n",
    "## Our numerical experiments with CESM\n",
    "____________"
   ]
  },
  {
   "cell_type": "markdown",
   "metadata": {
    "slideshow": {
     "slide_type": "slide"
    }
   },
   "source": [
    "### Atmosphere\n",
    "\n",
    " - Horizontal resolution about 2º lat/lon\n",
    " - AGCM solves the fundamental equations:\n",
    "    - Conservation of momentum, mass, energy, water, equation of state\n",
    " - At 2º we resolve the **synoptic-scale dynamics**\n",
    "     - storm tracks and cyclones. \n",
    " - We do NOT resolve the mesoscale and smaller\n",
    "     - thunderstorms, individual convective events, clouds\n",
    " - These all must be parameterized.\n",
    " - Model also solves equations of radiative transfer. This takes account of\n",
    "     - composition of the atmosphere and the absorption properties of different gases\n",
    "     - radiative effects of clouds."
   ]
  },
  {
   "cell_type": "markdown",
   "metadata": {
    "slideshow": {
     "slide_type": "slide"
    }
   },
   "source": [
    "### Sea ice\n",
    "\n",
    "- Resolution of 1º.\n",
    "- Thermodynamics (conservation of energy, water and salt)\n",
    "    - determines freezing and melting\n",
    "- Dynamics (momentum equations) \n",
    "    - determine ice motion and deformation.\n",
    "- Complex! Sea ice is sort of a mixture of a fluid and a solid."
   ]
  },
  {
   "cell_type": "markdown",
   "metadata": {
    "slideshow": {
     "slide_type": "slide"
    }
   },
   "source": [
    "### Land surface model\n",
    "\n",
    "- Same resolution as atmosphere. \n",
    "- Determines surface fluxes of heat, water, momentum (friction) based on prescribed vegetation types.\n",
    "- Don’t actually know much about how it works!\n",
    "- Great topic for someone to dig in to for their term project."
   ]
  },
  {
   "cell_type": "markdown",
   "metadata": {
    "slideshow": {
     "slide_type": "slide"
    }
   },
   "source": [
    "### Ocean\n",
    "\n",
    "- Same grid as sea ice, 1º.\n",
    "- Exchanges heat, water, and momentum with the atmosphere and sea ice\n",
    "- Receives runoff from the land surface (rivers)\n",
    "- Full 3D simulation of the currents."
   ]
  },
  {
   "cell_type": "markdown",
   "metadata": {
    "slideshow": {
     "slide_type": "slide"
    }
   },
   "source": [
    "### Experimental setup\n",
    "\n",
    "Model is given realistic atmospheric composition, realistic solar radiation, etc.\n",
    "\n",
    "We perform a **preindustrial control run** to get a baseline simulation, and take **averages of several years** (because the model has internal variability – every year is a little bit different)\n",
    "\n",
    "We then (later) we will change something, e.g. double the atmospheric $CO_2$!\n",
    "\n",
    "And allow the model to adjust toward a new equilibrium, just as we did with the toy energy balance model."
   ]
  },
  {
   "cell_type": "markdown",
   "metadata": {
    "slideshow": {
     "slide_type": "slide"
    }
   },
   "source": [
    "## Browsing input data with xarray\n",
    "\n",
    "First, let's take a look at some of the ingredients that go into the control run. **All of the necessary data will be served up by a special data server sitting in the department**, so you should be able to run this code to interact with the data on any computer that is connected to the internet."
   ]
  },
  {
   "cell_type": "markdown",
   "metadata": {
    "slideshow": {
     "slide_type": "slide"
    }
   },
   "source": [
    "### You need to be connected to the internet to run the code in this notebook ###\n",
    "\n",
    "You can browse the available data through a web interface here:\n",
    "\n",
    "http://thredds.atmos.albany.edu:8080/thredds/catalog.html\n",
    "\n",
    "Within this folder called `CESM archive`, you will find another folder called `som_input` which contains all the input files.\n",
    "\n",
    "The data are all stored in `NetCDF` files, a standard file format for self-describing gridded data."
   ]
  },
  {
   "cell_type": "code",
   "execution_count": 1,
   "metadata": {
    "slideshow": {
     "slide_type": "slide"
    }
   },
   "outputs": [],
   "source": [
    "%matplotlib inline\n",
    "import numpy as np\n",
    "import matplotlib.pyplot as plt\n",
    "import xarray as xr"
   ]
  },
  {
   "cell_type": "markdown",
   "metadata": {},
   "source": [
    "We are going to use a package called [xarray](http://xarray.pydata.org) (abbreviated here as `xr`) to work with the datasets."
   ]
  },
  {
   "cell_type": "markdown",
   "metadata": {
    "slideshow": {
     "slide_type": "slide"
    }
   },
   "source": [
    "### Boundary conditions: continents and topography\n",
    "\n",
    "Here we are going to load the input topography file and take a look at what's inside. \n",
    "\n",
    "In this case we are passing it a URL to our online dataserver. We'll put the URL in a string variable called `datapath` to simplify things later on."
   ]
  },
  {
   "cell_type": "code",
   "execution_count": 2,
   "metadata": {},
   "outputs": [
    {
     "name": "stdout",
     "output_type": "stream",
     "text": [
      "http://thredds.atmos.albany.edu:8080/thredds/dodsC/CESMA/som_input/USGS-gtopo30_1.9x2.5_remap_c050602.nc\n"
     ]
    }
   ],
   "source": [
    "cesm_data_path = \"http://thredds.atmos.albany.edu:8080/thredds/dodsC/CESMA/\"\n",
    "cesm_input_path = cesm_data_path + \"som_input/\"\n",
    "#  Notice that in Python we can easily concatenate strings together just by `adding` them\n",
    "fullURL = cesm_input_path + \"USGS-gtopo30_1.9x2.5_remap_c050602.nc\"\n",
    "print( fullURL)"
   ]
  },
  {
   "cell_type": "code",
   "execution_count": 3,
   "metadata": {},
   "outputs": [
    {
     "name": "stdout",
     "output_type": "stream",
     "text": [
      "<xarray.Dataset>\n",
      "Dimensions:       (lat: 96, lon: 144)\n",
      "Coordinates:\n",
      "  * lat           (lat) float64 -90.0 -88.11 -86.21 -84.32 ... 86.21 88.11 90.0\n",
      "  * lon           (lon) float64 0.0 2.5 5.0 7.5 10.0 ... 350.0 352.5 355.0 357.5\n",
      "Data variables:\n",
      "    PHIS          (lat, lon) float64 ...\n",
      "    SGH           (lat, lon) float64 ...\n",
      "    SGH30         (lat, lon) float64 ...\n",
      "    LANDFRAC      (lat, lon) float64 ...\n",
      "    LANDM_COSLAT  (lat, lon) float64 ...\n",
      "Attributes:\n",
      "    history:    Written on date: 20050602\\ndefinesurf -remap -t /fs/cgd/csm/i...\n",
      "    make_ross:  true\n",
      "    topofile:   /fs/cgd/csm/inputdata/atm/cam/topo/USGS-gtopo30_10min_c050419.nc\n",
      "    gridfile:   /fs/cgd/csm/inputdata/atm/cam/coords/fv_1.9x2.5.nc\n",
      "    landmask:   /fs/cgd/csm/inputdata/atm/cam2/hrtopo/landm_coslat.nc\n"
     ]
    }
   ],
   "source": [
    "#  Now we actually open the dataset\n",
    "topo = xr.open_dataset( fullURL )\n",
    "print(topo)"
   ]
  },
  {
   "cell_type": "markdown",
   "metadata": {},
   "source": [
    "The `Dataset` object has several important attributes. Much of this should look familiar if you have worked with `netCDF` data before. The `xarray` package gives a very powerful and easy to use interface to the data."
   ]
  },
  {
   "cell_type": "markdown",
   "metadata": {},
   "source": [
    "We can access individual variables within the `xarray.Dataset` object as follows:"
   ]
  },
  {
   "cell_type": "code",
   "execution_count": 4,
   "metadata": {},
   "outputs": [
    {
     "data": {
      "text/html": [
       "<pre>&lt;xarray.DataArray &#x27;PHIS&#x27; (lat: 96, lon: 144)&gt;\n",
       "array([[2.796465e+04, 2.796465e+04, 2.796465e+04, ..., 2.796465e+04,\n",
       "        2.796465e+04, 2.796465e+04],\n",
       "       [2.718626e+04, 2.724515e+04, 2.730367e+04, ..., 2.699761e+04,\n",
       "        2.706319e+04, 2.712589e+04],\n",
       "       [2.562017e+04, 2.579349e+04, 2.595301e+04, ..., 2.497548e+04,\n",
       "        2.521368e+04, 2.542803e+04],\n",
       "       ...,\n",
       "       [1.720216e-02, 7.134989e-03, 2.748055e-03, ..., 1.569097e-01,\n",
       "        8.055879e-02, 3.857289e-02],\n",
       "       [5.444020e-02, 3.951677e-02, 2.799566e-02, ..., 1.231596e-01,\n",
       "        9.609957e-02, 7.320690e-02],\n",
       "       [0.000000e+00, 0.000000e+00, 0.000000e+00, ..., 0.000000e+00,\n",
       "        0.000000e+00, 0.000000e+00]])\n",
       "Coordinates:\n",
       "  * lat      (lat) float64 -90.0 -88.11 -86.21 -84.32 ... 84.32 86.21 88.11 90.0\n",
       "  * lon      (lon) float64 0.0 2.5 5.0 7.5 10.0 ... 350.0 352.5 355.0 357.5\n",
       "Attributes:\n",
       "    long_name:   surface geopotential\n",
       "    units:       m2/s2\n",
       "    from_hires:  true\n",
       "    filter:      remap</pre>"
      ],
      "text/plain": [
       "<xarray.DataArray 'PHIS' (lat: 96, lon: 144)>\n",
       "array([[2.796465e+04, 2.796465e+04, 2.796465e+04, ..., 2.796465e+04,\n",
       "        2.796465e+04, 2.796465e+04],\n",
       "       [2.718626e+04, 2.724515e+04, 2.730367e+04, ..., 2.699761e+04,\n",
       "        2.706319e+04, 2.712589e+04],\n",
       "       [2.562017e+04, 2.579349e+04, 2.595301e+04, ..., 2.497548e+04,\n",
       "        2.521368e+04, 2.542803e+04],\n",
       "       ...,\n",
       "       [1.720216e-02, 7.134989e-03, 2.748055e-03, ..., 1.569097e-01,\n",
       "        8.055879e-02, 3.857289e-02],\n",
       "       [5.444020e-02, 3.951677e-02, 2.799566e-02, ..., 1.231596e-01,\n",
       "        9.609957e-02, 7.320690e-02],\n",
       "       [0.000000e+00, 0.000000e+00, 0.000000e+00, ..., 0.000000e+00,\n",
       "        0.000000e+00, 0.000000e+00]])\n",
       "Coordinates:\n",
       "  * lat      (lat) float64 -90.0 -88.11 -86.21 -84.32 ... 84.32 86.21 88.11 90.0\n",
       "  * lon      (lon) float64 0.0 2.5 5.0 7.5 10.0 ... 350.0 352.5 355.0 357.5\n",
       "Attributes:\n",
       "    long_name:   surface geopotential\n",
       "    units:       m2/s2\n",
       "    from_hires:  true\n",
       "    filter:      remap"
      ]
     },
     "execution_count": 4,
     "metadata": {},
     "output_type": "execute_result"
    }
   ],
   "source": [
    "topo.PHIS"
   ]
  },
  {
   "cell_type": "markdown",
   "metadata": {},
   "source": [
    "### Plotting the topography\n",
    "\n",
    "We will now read the geopotential and make a plot of the topography of the Earth's surface as represented on the 2º grid. The code below makes a colorful plot of the topography. We also use the land-sea mask in order to plot nothing at grid points that are entirely ocean-covered. \n",
    "\n",
    "Execute this code exactly as written first, and then play around with it to see how you might customize the graph. "
   ]
  },
  {
   "cell_type": "code",
   "execution_count": 5,
   "metadata": {},
   "outputs": [
    {
     "data": {
      "text/html": [
       "<pre>&lt;xarray.DataArray &#x27;height&#x27; (lat: 96, lon: 144)&gt;\n",
       "array([[2.85353559e+00, 2.85353559e+00, 2.85353559e+00, ...,\n",
       "        2.85353559e+00, 2.85353559e+00, 2.85353559e+00],\n",
       "       [2.77410830e+00, 2.78011779e+00, 2.78608862e+00, ...,\n",
       "        2.75485770e+00, 2.76155041e+00, 2.76794791e+00],\n",
       "       [2.61430262e+00, 2.63198888e+00, 2.64826593e+00, ...,\n",
       "        2.54851832e+00, 2.57282431e+00, 2.59469735e+00],\n",
       "       ...,\n",
       "       [1.75532270e-06, 7.28060055e-07, 2.80413809e-07, ...,\n",
       "        1.60111973e-05, 8.22028425e-06, 3.93600870e-06],\n",
       "       [5.55512288e-06, 4.03232300e-06, 2.85670028e-06, ...,\n",
       "        1.25673050e-05, 9.80607842e-06, 7.47009192e-06],\n",
       "       [0.00000000e+00, 0.00000000e+00, 0.00000000e+00, ...,\n",
       "        0.00000000e+00, 0.00000000e+00, 0.00000000e+00]])\n",
       "Coordinates:\n",
       "  * lat      (lat) float64 -90.0 -88.11 -86.21 -84.32 ... 84.32 86.21 88.11 90.0\n",
       "  * lon      (lon) float64 0.0 2.5 5.0 7.5 10.0 ... 350.0 352.5 355.0 357.5\n",
       "Attributes:\n",
       "    units:    km</pre>"
      ],
      "text/plain": [
       "<xarray.DataArray 'height' (lat: 96, lon: 144)>\n",
       "array([[2.85353559e+00, 2.85353559e+00, 2.85353559e+00, ...,\n",
       "        2.85353559e+00, 2.85353559e+00, 2.85353559e+00],\n",
       "       [2.77410830e+00, 2.78011779e+00, 2.78608862e+00, ...,\n",
       "        2.75485770e+00, 2.76155041e+00, 2.76794791e+00],\n",
       "       [2.61430262e+00, 2.63198888e+00, 2.64826593e+00, ...,\n",
       "        2.54851832e+00, 2.57282431e+00, 2.59469735e+00],\n",
       "       ...,\n",
       "       [1.75532270e-06, 7.28060055e-07, 2.80413809e-07, ...,\n",
       "        1.60111973e-05, 8.22028425e-06, 3.93600870e-06],\n",
       "       [5.55512288e-06, 4.03232300e-06, 2.85670028e-06, ...,\n",
       "        1.25673050e-05, 9.80607842e-06, 7.47009192e-06],\n",
       "       [0.00000000e+00, 0.00000000e+00, 0.00000000e+00, ...,\n",
       "        0.00000000e+00, 0.00000000e+00, 0.00000000e+00]])\n",
       "Coordinates:\n",
       "  * lat      (lat) float64 -90.0 -88.11 -86.21 -84.32 ... 84.32 86.21 88.11 90.0\n",
       "  * lon      (lon) float64 0.0 2.5 5.0 7.5 10.0 ... 350.0 352.5 355.0 357.5\n",
       "Attributes:\n",
       "    units:    km"
      ]
     },
     "execution_count": 5,
     "metadata": {},
     "output_type": "execute_result"
    }
   ],
   "source": [
    "g = 9.8  # gravity in m/s2\n",
    "meters_per_kilometer = 1E3 \n",
    "height = topo.PHIS / g / meters_per_kilometer  # in kilometers\n",
    "#  Note that we have just created a new xarray.DataArray object that preserves the axis labels\n",
    "#  Let's go ahead and give it some useful metadata:\n",
    "height.attrs['units'] = 'km'\n",
    "height.name = 'height'\n",
    "height"
   ]
  },
  {
   "cell_type": "markdown",
   "metadata": {},
   "source": [
    "Let's make a plot! `xarray` is able to automatically generate labeled plots. This is very handy for \"quick and dirty\" investigation of the data:"
   ]
  },
  {
   "cell_type": "code",
   "execution_count": 6,
   "metadata": {},
   "outputs": [
    {
     "data": {
      "text/plain": [
       "<matplotlib.collections.QuadMesh at 0x1168ec130>"
      ]
     },
     "execution_count": 6,
     "metadata": {},
     "output_type": "execute_result"
    },
    {
     "data": {
      "image/png": "[encoded data removed]",
      "text/plain": [
       "<Figure size 432x288 with 2 Axes>"
      ]
     },
     "metadata": {
      "needs_background": "light"
     },
     "output_type": "display_data"
    }
   ],
   "source": [
    "height.plot()"
   ]
  },
  {
   "cell_type": "markdown",
   "metadata": {},
   "source": [
    "If we want more control over the appearance of the plot, we can use features of `matplotlib`"
   ]
  },
  {
   "cell_type": "code",
   "execution_count": 7,
   "metadata": {},
   "outputs": [
    {
     "data": {
      "image/png": "[encoded data removed]",
      "text/plain": [
       "<Figure size 576x288 with 2 Axes>"
      ]
     },
     "metadata": {
      "needs_background": "light"
     },
     "output_type": "display_data"
    }
   ],
   "source": [
    "#  A filled contour plot of topography with contours every 500 m\n",
    "lev = np.arange(0., 6., 0.5)\n",
    "fig1, ax1 = plt.subplots(figsize=(8,4))\n",
    "# Here we are masking the data to exclude points where the land fraction is zero (water only)\n",
    "cax1 = ax1.contourf( height.lon, height.lat, \n",
    "                    height.where(topo.LANDFRAC>0), levels=lev)\n",
    "ax1.set_title('Topography (km) and land-sea mask in CESM')\n",
    "ax1.set_xlabel('Longitude')\n",
    "ax1.set_ylabel('Latitude')\n",
    "cbar1 = fig1.colorbar(cax1)"
   ]
  },
  {
   "cell_type": "markdown",
   "metadata": {},
   "source": [
    "Note that at 2º resolution we can see many smaller features (e.g. Pacific islands). The model is given a fractional land cover for each grid point. \n",
    "\n",
    "Here let's plot the land-sea mask itself so we can see where there is at least \"some\" water:"
   ]
  },
  {
   "cell_type": "code",
   "execution_count": 8,
   "metadata": {},
   "outputs": [
    {
     "data": {
      "image/png": "[encoded data removed]",
      "text/plain": [
       "<Figure size 432x288 with 2 Axes>"
      ]
     },
     "metadata": {
      "needs_background": "light"
     },
     "output_type": "display_data"
    }
   ],
   "source": [
    "fig2, ax2 = plt.subplots()\n",
    "cax2 = ax2.pcolormesh( topo.lon, topo.lat, topo.LANDFRAC )\n",
    "ax2.set_title('Ocean mask in CESM')\n",
    "ax2.set_xlabel('Longitude'); ax2.set_ylabel('Latitude')\n",
    "cbar2 = fig2.colorbar(cax2);"
   ]
  },
  {
   "cell_type": "markdown",
   "metadata": {},
   "source": [
    "### Making nicer maps\n",
    "\n",
    "Notice that to make these plots we've just plotted the lat-lon array without using any map projection.\n",
    "\n",
    "There are nice tools available to make better maps. We'll leave that as a topic for another day. But if you're keen to read ahead, check out:\n",
    "\n",
    "<http://scitools.org.uk/cartopy/>\n"
   ]
  },
  {
   "cell_type": "markdown",
   "metadata": {},
   "source": [
    "## Ocean boundary conditions\n",
    "\n",
    "Let's load another file that contains some information about the ocean and its interaction with the atmosphere."
   ]
  },
  {
   "cell_type": "code",
   "execution_count": 9,
   "metadata": {},
   "outputs": [
    {
     "name": "stdout",
     "output_type": "stream",
     "text": [
      "<xarray.Dataset>\n",
      "Dimensions:  (lat: 180, lon: 360, time: 12)\n",
      "Coordinates:\n",
      "  * time     (time) object 0001-01-15 00:00:00 ... 0001-12-16 00:00:00\n",
      "Dimensions without coordinates: lat, lon\n",
      "Data variables:\n",
      "    area     (lat, lon) float64 ...\n",
      "    mask     (lat, lon) int32 ...\n",
      "    yc       (lat) float32 ...\n",
      "    xc       (lon) float32 ...\n",
      "    S        (time, lat, lon) float32 ...\n",
      "    T        (time, lat, lon) float32 ...\n",
      "    U        (time, lat, lon) float32 ...\n",
      "    V        (time, lat, lon) float32 ...\n",
      "    dhdx     (time, lat, lon) float32 ...\n",
      "    dhdy     (time, lat, lon) float32 ...\n",
      "    hblt     (time, lat, lon) float32 ...\n",
      "    qdp      (time, lat, lon) float32 ...\n",
      "Attributes:\n",
      "    creation_date:  Fri Jan 30 10:22:53 MST 2009\n",
      "    comment:        This data is on a standard 1x1d grid.\n",
      "    calendar:       standard\n",
      "    author:         D. Bailey\n",
      "    note3:          qdp is computed from depth summed ocean column\n",
      "    note2:          all fields interpolated to T-grid\n",
      "    note1:          fields computed from 20-yr monthly means from pop\n",
      "    description:    Input data for DOCN7 mixed layer model from b40.999\n",
      "    source:         pop_frc.ncl\n",
      "    conventions:    CCSM data model domain description\n",
      "    title:          Monthly averaged ocean forcing from POP output\n"
     ]
    }
   ],
   "source": [
    "som_input = xr.open_dataset( cesm_input_path + \"pop_frc.1x1d.090130.nc\")\n",
    "print(som_input)"
   ]
  },
  {
   "cell_type": "markdown",
   "metadata": {},
   "source": [
    "The ocean / sea ice models exist on different grids than the atmosphere (1º instead of 2º resolution)."
   ]
  },
  {
   "cell_type": "markdown",
   "metadata": {},
   "source": [
    "Now we are going to look at the **annual mean heat flux out of the ocean**.\n",
    "\n",
    "It is stored in the field `qdp` in the dataset we just opened. \n",
    "\n",
    "The sign convention in CESM is that `qdp > 0` where **heat is going IN to the ocean**. We will change the sign to plot heat going OUT of the ocean INTO the atmosphere (a more atmosphere-centric viewpoint). "
   ]
  },
  {
   "cell_type": "code",
   "execution_count": 10,
   "metadata": {},
   "outputs": [
    {
     "data": {
      "text/html": [
       "<pre>&lt;xarray.DataArray &#x27;qdp&#x27; (time: 12, lat: 180, lon: 360)&gt;\n",
       "[777600 values with dtype=float32]\n",
       "Coordinates:\n",
       "  * time     (time) object 0001-01-15 00:00:00 ... 0001-12-16 00:00:00\n",
       "Dimensions without coordinates: lat, lon\n",
       "Attributes:\n",
       "    spatial_op:  Bilinear remapping: 1st order: destarea: NCL: ./map_gx1v5_to...</pre>"
      ],
      "text/plain": [
       "<xarray.DataArray 'qdp' (time: 12, lat: 180, lon: 360)>\n",
       "[777600 values with dtype=float32]\n",
       "Coordinates:\n",
       "  * time     (time) object 0001-01-15 00:00:00 ... 0001-12-16 00:00:00\n",
       "Dimensions without coordinates: lat, lon\n",
       "Attributes:\n",
       "    spatial_op:  Bilinear remapping: 1st order: destarea: NCL: ./map_gx1v5_to..."
      ]
     },
     "execution_count": 10,
     "metadata": {},
     "output_type": "execute_result"
    }
   ],
   "source": [
    "som_input.qdp"
   ]
  },
  {
   "cell_type": "markdown",
   "metadata": {},
   "source": [
    "Unfortunately, here is a case in which the metadata are not very useful. There is no text description of what variable `qdp` actually is, or what its units are.  (It is actually in units of W m$^{-2}$)\n",
    "\n",
    "We can see that there are 12 x 180 x 360 data points. One 180 x 360 grid for each calendar month!"
   ]
  },
  {
   "cell_type": "markdown",
   "metadata": {},
   "source": [
    "Now we are going to take the average over the year at each point. \n",
    "\n",
    "We will use the power of `xarray` here to take the average over the time dimension, leaving us with a single grid on 180 latitude points by 360 longitude points:"
   ]
  },
  {
   "cell_type": "code",
   "execution_count": 11,
   "metadata": {},
   "outputs": [
    {
     "name": "stderr",
     "output_type": "stream",
     "text": [
      "/Users/br546577/opt/anaconda3/envs/climlab-courseware/lib/python3.8/site-packages/xarray/core/nanops.py:140: RuntimeWarning: Mean of empty slice\n",
      "  return np.nanmean(a, axis=axis, dtype=dtype)\n"
     ]
    },
    {
     "data": {
      "text/plain": [
       "<matplotlib.collections.QuadMesh at 0x118e4a760>"
      ]
     },
     "execution_count": 11,
     "metadata": {},
     "output_type": "execute_result"
    },
    {
     "data": {
      "image/png": "[encoded data removed]",
      "text/plain": [
       "<Figure size 432x288 with 2 Axes>"
      ]
     },
     "metadata": {
      "needs_background": "light"
     },
     "output_type": "display_data"
    }
   ],
   "source": [
    "(-som_input.qdp.mean(dim='time')).plot()"
   ]
  },
  {
   "cell_type": "markdown",
   "metadata": {},
   "source": [
    "Now make a nice plot of the annual mean q-flux. "
   ]
  },
  {
   "cell_type": "code",
   "execution_count": 12,
   "metadata": {},
   "outputs": [
    {
     "data": {
      "image/png": "[encoded data removed]",
      "text/plain": [
       "<Figure size 720x432 with 2 Axes>"
      ]
     },
     "metadata": {
      "needs_background": "light"
     },
     "output_type": "display_data"
    }
   ],
   "source": [
    "#  We can always set a non-standard size for our figure window\n",
    "fig3, ax3 = plt.subplots(figsize=(10, 6))\n",
    "lev = np.arange(-700., 750., 50.)\n",
    "cax3 = ax3.contourf(som_input.xc, som_input.yc, \n",
    "                    -som_input.qdp.mean(dim='time'), \n",
    "                    levels=lev, cmap=plt.cm.bwr)\n",
    "cbar3 = fig3.colorbar(cax3)\n",
    "ax3.set_title( 'CESM: Prescribed heat flux out of ocean (W m$^{-2}$), annual mean', \n",
    "              fontsize=14 )\n",
    "ax3.set_xlabel('Longitude', fontsize=14)\n",
    "ax3.set_ylabel('Latitude', fontsize=14)\n",
    "ax3.text(65, 50, 'Annual', fontsize=16 )\n",
    "ax3.contour(topo.lon, topo.lat, topo.LANDFRAC, levels=[0.5], colors='k');"
   ]
  },
  {
   "cell_type": "markdown",
   "metadata": {},
   "source": [
    "Notice all the spatial structure here: \n",
    "\n",
    "- Lots of heat is going in to the oceans at the equator, particularly in the eastern Pacific Ocean.\n",
    "- The red hot spots show where lots of heat is coming out of the ocean.\n",
    "- Hot spots include the mid-latitudes off the eastern coasts of Asia and North America\n",
    "- And also the northern North Atlantic. \n",
    "\n",
    "**All this structure is determined by ocean circulation, which we are not modeling here.** Instead, we are prescribing these heat flux patterns as an input to the atmosphere.\n",
    "\n",
    "This pattern changes throughout the year. Recall that we just averaged over all months to make this plot. We might want to look at just one month:"
   ]
  },
  {
   "cell_type": "code",
   "execution_count": 13,
   "metadata": {},
   "outputs": [
    {
     "data": {
      "text/html": [
       "<pre>&lt;xarray.DataArray &#x27;qdp&#x27; (lat: 180, lon: 360)&gt;\n",
       "array([[      nan,       nan,       nan, ...,       nan,       nan,       nan],\n",
       "       [      nan,       nan,       nan, ...,       nan,       nan,       nan],\n",
       "       [      nan,       nan,       nan, ...,       nan,       nan,       nan],\n",
       "       ...,\n",
       "       [-5.75126 , -5.742314, -5.734764, ..., -5.792866, -5.774798, -5.761612],\n",
       "       [-5.533446, -5.537023, -5.540624, ..., -5.522859, -5.526363, -5.529893],\n",
       "       [-5.31631 , -5.314115, -5.311888, ..., -5.322703, -5.320605, -5.318473]],\n",
       "      dtype=float32)\n",
       "Coordinates:\n",
       "    time     object 0001-01-15 00:00:00\n",
       "Dimensions without coordinates: lat, lon\n",
       "Attributes:\n",
       "    spatial_op:  Bilinear remapping: 1st order: destarea: NCL: ./map_gx1v5_to...</pre>"
      ],
      "text/plain": [
       "<xarray.DataArray 'qdp' (lat: 180, lon: 360)>\n",
       "array([[      nan,       nan,       nan, ...,       nan,       nan,       nan],\n",
       "       [      nan,       nan,       nan, ...,       nan,       nan,       nan],\n",
       "       [      nan,       nan,       nan, ...,       nan,       nan,       nan],\n",
       "       ...,\n",
       "       [-5.75126 , -5.742314, -5.734764, ..., -5.792866, -5.774798, -5.761612],\n",
       "       [-5.533446, -5.537023, -5.540624, ..., -5.522859, -5.526363, -5.529893],\n",
       "       [-5.31631 , -5.314115, -5.311888, ..., -5.322703, -5.320605, -5.318473]],\n",
       "      dtype=float32)\n",
       "Coordinates:\n",
       "    time     object 0001-01-15 00:00:00\n",
       "Dimensions without coordinates: lat, lon\n",
       "Attributes:\n",
       "    spatial_op:  Bilinear remapping: 1st order: destarea: NCL: ./map_gx1v5_to..."
      ]
     },
     "execution_count": 13,
     "metadata": {},
     "output_type": "execute_result"
    }
   ],
   "source": [
    "# select by month index (0 through 11)\n",
    "som_input.qdp.isel(time=0)"
   ]
  },
  {
   "cell_type": "code",
   "execution_count": 14,
   "metadata": {},
   "outputs": [
    {
     "data": {
      "text/html": [
       "<pre>&lt;xarray.DataArray &#x27;qdp&#x27; (lat: 180, lon: 360)&gt;\n",
       "array([[      nan,       nan,       nan, ...,       nan,       nan,       nan],\n",
       "       [      nan,       nan,       nan, ...,       nan,       nan,       nan],\n",
       "       [      nan,       nan,       nan, ...,       nan,       nan,       nan],\n",
       "       ...,\n",
       "       [-5.75126 , -5.742314, -5.734764, ..., -5.792866, -5.774798, -5.761612],\n",
       "       [-5.533446, -5.537023, -5.540624, ..., -5.522859, -5.526363, -5.529893],\n",
       "       [-5.31631 , -5.314115, -5.311888, ..., -5.322703, -5.320605, -5.318473]],\n",
       "      dtype=float32)\n",
       "Coordinates:\n",
       "    time     object 0001-01-15 00:00:00\n",
       "Dimensions without coordinates: lat, lon\n",
       "Attributes:\n",
       "    spatial_op:  Bilinear remapping: 1st order: destarea: NCL: ./map_gx1v5_to...</pre>"
      ],
      "text/plain": [
       "<xarray.DataArray 'qdp' (lat: 180, lon: 360)>\n",
       "array([[      nan,       nan,       nan, ...,       nan,       nan,       nan],\n",
       "       [      nan,       nan,       nan, ...,       nan,       nan,       nan],\n",
       "       [      nan,       nan,       nan, ...,       nan,       nan,       nan],\n",
       "       ...,\n",
       "       [-5.75126 , -5.742314, -5.734764, ..., -5.792866, -5.774798, -5.761612],\n",
       "       [-5.533446, -5.537023, -5.540624, ..., -5.522859, -5.526363, -5.529893],\n",
       "       [-5.31631 , -5.314115, -5.311888, ..., -5.322703, -5.320605, -5.318473]],\n",
       "      dtype=float32)\n",
       "Coordinates:\n",
       "    time     object 0001-01-15 00:00:00\n",
       "Dimensions without coordinates: lat, lon\n",
       "Attributes:\n",
       "    spatial_op:  Bilinear remapping: 1st order: destarea: NCL: ./map_gx1v5_to..."
      ]
     },
     "execution_count": 14,
     "metadata": {},
     "output_type": "execute_result"
    }
   ],
   "source": [
    "#  select by array slicing (but for this you have to know the axis order!)\n",
    "som_input.qdp[0,:,:]"
   ]
  },
  {
   "cell_type": "markdown",
   "metadata": {},
   "source": [
    "Here we got just the first month (January) by specifying `[0,:,:]` after the variable name. This is called *slicing* or *indexing* an array. We are saying \"give me everything for month number 0\". Now make the plot:"
   ]
  },
  {
   "cell_type": "code",
   "execution_count": 15,
   "metadata": {},
   "outputs": [
    {
     "data": {
      "image/png": "[encoded data removed]",
      "text/plain": [
       "<Figure size 720x288 with 2 Axes>"
      ]
     },
     "metadata": {
      "needs_background": "light"
     },
     "output_type": "display_data"
    }
   ],
   "source": [
    "fig4, ax4 = plt.subplots(figsize=(10,4)) \n",
    "cax4 = ax4.contourf( som_input.xc, som_input.yc, \n",
    "                    -som_input.qdp.isel(time=0), \n",
    "                      levels=lev, cmap=plt.cm.bwr)\n",
    "cbar4 = plt.colorbar(cax4)\n",
    "ax4.set_title( 'CESM: Prescribed heat flux out of ocean (W m$^{-2}$)', \n",
    "              fontsize=14 )\n",
    "ax3.set_xlabel('Longitude', fontsize=14)\n",
    "ax3.set_ylabel('Latitude', fontsize=14)\n",
    "ax4.text(65, 50, 'January', fontsize=12 );\n",
    "ax4.contour(topo.lon, topo.lat, topo.LANDFRAC, levels=[0.5], colors='k');"
   ]
  },
  {
   "cell_type": "markdown",
   "metadata": {},
   "source": [
    "For lots more help with using xarray to slice and dice your dataset, look at the online documentation:\n",
    "\n",
    "http://xarray.pydata.org"
   ]
  },
  {
   "cell_type": "markdown",
   "metadata": {},
   "source": [
    "## The \"pre-industrial\" control run\n",
    "\n",
    "Our control run is set up to simulate the climate of the \"pre-industrial era\", meaning before significant human-induced changes to the composition of the atmosphere, nominally the year 1850.\n",
    "\n",
    "Output from the control run is available on the same data server as above. Look in the folder called `cpl_1850_f19` (Here `cpl` stands for \"coupled model\" with interactive ocean, 1850 indicated pre-industrial conditions, and `f19` is a code for 2º the horizontal grid resolution).\n",
    "\n",
    "There are output files for each active model component:\n",
    "\n",
    "- atmosphere\n",
    "- ocean\n",
    "- sea ice\n",
    "- land surface \n",
    "\n",
    "The model produces **monthly average** output files for each component. We can load datasets from individual months, but there are also large **concatenated** files available that contain the entire output.\n",
    "\n",
    "Let's take a look at the atmosphere file. The file is called\n",
    "\n",
    "`cpl_1850_f19.cam.h0.nc`\n",
    "\n",
    "(the file extension `.nc` is used to indicate NetCDF format)."
   ]
  },
  {
   "cell_type": "code",
   "execution_count": 16,
   "metadata": {},
   "outputs": [
    {
     "name": "stdout",
     "output_type": "stream",
     "text": [
      "<xarray.Dataset>\n",
      "Dimensions:       (ilev: 27, lat: 96, lev: 26, lon: 144, nbnd: 2, slat: 95, slon: 144, time: 240)\n",
      "Coordinates:\n",
      "  * lev           (lev) float64 3.545 7.389 13.97 23.94 ... 929.6 970.6 992.6\n",
      "  * ilev          (ilev) float64 2.194 4.895 9.882 18.05 ... 956.0 985.1 1e+03\n",
      "  * time          (time) object 0001-02-01 00:00:00 ... 0021-01-01 00:00:00\n",
      "  * lat           (lat) float64 -90.0 -88.11 -86.21 -84.32 ... 86.21 88.11 90.0\n",
      "  * lon           (lon) float64 0.0 2.5 5.0 7.5 10.0 ... 350.0 352.5 355.0 357.5\n",
      "  * slat          (slat) float64 -89.05 -87.16 -85.26 ... 85.26 87.16 89.05\n",
      "  * slon          (slon) float64 -1.25 1.25 3.75 6.25 ... 351.2 353.8 356.2\n",
      "Dimensions without coordinates: nbnd\n",
      "Data variables:\n",
      "    hyam          (lev) float64 ...\n",
      "    hybm          (lev) float64 ...\n",
      "    hyai          (ilev) float64 ...\n",
      "    hybi          (ilev) float64 ...\n",
      "    P0            float64 ...\n",
      "    date          (time) int32 ...\n",
      "    datesec       (time) int32 ...\n",
      "    w_stag        (slat) float64 ...\n",
      "    time_bnds     (time, nbnd) object ...\n",
      "    date_written  (time) |S64 ...\n",
      "    time_written  (time) |S64 ...\n",
      "    ntrm          int32 ...\n",
      "    ntrn          int32 ...\n",
      "    ntrk          int32 ...\n",
      "    ndbase        int32 ...\n",
      "    nsbase        int32 ...\n",
      "    nbdate        int32 ...\n",
      "    nbsec         int32 ...\n",
      "    mdt           int32 ...\n",
      "    nlon          (lat) int32 ...\n",
      "    wnummax       (lat) int32 ...\n",
      "    gw            (lat) float64 ...\n",
      "    ndcur         (time) int32 ...\n",
      "    nscur         (time) int32 ...\n",
      "    co2vmr        (time) float64 ...\n",
      "    ch4vmr        (time) float64 ...\n",
      "    n2ovmr        (time) float64 ...\n",
      "    f11vmr        (time) float64 ...\n",
      "    f12vmr        (time) float64 ...\n",
      "    sol_tsi       (time) float64 ...\n",
      "    nsteph        (time) int32 ...\n",
      "    AEROD_v       (time, lat, lon) float32 ...\n",
      "    CLDHGH        (time, lat, lon) float32 ...\n",
      "    CLDICE        (time, lev, lat, lon) float32 ...\n",
      "    CLDLIQ        (time, lev, lat, lon) float32 ...\n",
      "    CLDLOW        (time, lat, lon) float32 ...\n",
      "    CLDMED        (time, lat, lon) float32 ...\n",
      "    CLDTOT        (time, lat, lon) float32 ...\n",
      "    CLOUD         (time, lev, lat, lon) float32 ...\n",
      "    CONCLD        (time, lev, lat, lon) float32 ...\n",
      "    DCQ           (time, lev, lat, lon) float32 ...\n",
      "    DTCOND        (time, lev, lat, lon) float32 ...\n",
      "    DTV           (time, lev, lat, lon) float32 ...\n",
      "    EMIS          (time, lev, lat, lon) float32 ...\n",
      "    FICE          (time, lev, lat, lon) float32 ...\n",
      "    FLDS          (time, lat, lon) float32 ...\n",
      "    FLDSC         (time, lat, lon) float32 ...\n",
      "    FLNS          (time, lat, lon) float32 ...\n",
      "    FLNSC         (time, lat, lon) float32 ...\n",
      "    FLNT          (time, lat, lon) float32 ...\n",
      "    FLNTC         (time, lat, lon) float32 ...\n",
      "    FLUT          (time, lat, lon) float32 ...\n",
      "    FLUTC         (time, lat, lon) float32 ...\n",
      "    FSDS          (time, lat, lon) float32 ...\n",
      "    FSDSC         (time, lat, lon) float32 ...\n",
      "    FSDTOA        (time, lat, lon) float32 ...\n",
      "    FSNS          (time, lat, lon) float32 ...\n",
      "    FSNSC         (time, lat, lon) float32 ...\n",
      "    FSNT          (time, lat, lon) float32 ...\n",
      "    FSNTC         (time, lat, lon) float32 ...\n",
      "    FSNTOA        (time, lat, lon) float32 ...\n",
      "    FSNTOAC       (time, lat, lon) float32 ...\n",
      "    FSUTOA        (time, lat, lon) float32 ...\n",
      "    ICEFRAC       (time, lat, lon) float32 ...\n",
      "    ICIMR         (time, lev, lat, lon) float32 ...\n",
      "    ICWMR         (time, lev, lat, lon) float32 ...\n",
      "    LANDFRAC      (time, lat, lon) float32 ...\n",
      "    LHFLX         (time, lat, lon) float32 ...\n",
      "    LWCF          (time, lat, lon) float32 ...\n",
      "    MSKtem        (time, lat, lon) float32 ...\n",
      "    OCNFRAC       (time, lat, lon) float32 ...\n",
      "    OMEGA         (time, lev, lat, lon) float32 ...\n",
      "    OMEGAT        (time, lev, lat, lon) float32 ...\n",
      "    PBLH          (time, lat, lon) float32 ...\n",
      "    PHIS          (time, lat, lon) float32 ...\n",
      "    PRECC         (time, lat, lon) float32 ...\n",
      "    PRECL         (time, lat, lon) float32 ...\n",
      "    PRECSC        (time, lat, lon) float32 ...\n",
      "    PRECSL        (time, lat, lon) float32 ...\n",
      "    PS            (time, lat, lon) float32 ...\n",
      "    PSL           (time, lat, lon) float32 ...\n",
      "    Q             (time, lev, lat, lon) float32 ...\n",
      "    QFLX          (time, lat, lon) float32 ...\n",
      "    QREFHT        (time, lat, lon) float32 ...\n",
      "    QRL           (time, lev, lat, lon) float32 ...\n",
      "    QRS           (time, lev, lat, lon) float32 ...\n",
      "    RELHUM        (time, lev, lat, lon) float32 ...\n",
      "    SFCLDICE      (time, lat, lon) float32 ...\n",
      "    SFCLDLIQ      (time, lat, lon) float32 ...\n",
      "    SHFLX         (time, lat, lon) float32 ...\n",
      "    SNOWHICE      (time, lat, lon) float32 ...\n",
      "    SNOWHLND      (time, lat, lon) float32 ...\n",
      "    SOLIN         (time, lat, lon) float32 ...\n",
      "    SWCF          (time, lat, lon) float32 ...\n",
      "    T             (time, lev, lat, lon) float32 ...\n",
      "    TAUX          (time, lat, lon) float32 ...\n",
      "    TAUY          (time, lat, lon) float32 ...\n",
      "    TGCLDCWP      (time, lat, lon) float32 ...\n",
      "    TGCLDIWP      (time, lat, lon) float32 ...\n",
      "    TGCLDLWP      (time, lat, lon) float32 ...\n",
      "    TH            (time, ilev, lat, lon) float32 ...\n",
      "    TH2d          (time, lat, lon) float32 ...\n",
      "    TMQ           (time, lat, lon) float32 ...\n",
      "    TREFHT        (time, lat, lon) float32 ...\n",
      "    TS            (time, lat, lon) float32 ...\n",
      "    TSMN          (time, lat, lon) float32 ...\n",
      "    TSMX          (time, lat, lon) float32 ...\n",
      "    U             (time, lev, lat, lon) float32 ...\n",
      "    U10           (time, lat, lon) float32 ...\n",
      "    U2d           (time, lat, lon) float32 ...\n",
      "    UTGWORO       (time, lev, lat, lon) float32 ...\n",
      "    UU            (time, lev, lat, lon) float32 ...\n",
      "    UV2d          (time, lat, lon) float32 ...\n",
      "    UV3d          (time, ilev, lat, lon) float32 ...\n",
      "    UW2d          (time, lat, lon) float32 ...\n",
      "    UW3d          (time, ilev, lat, lon) float32 ...\n",
      "    V             (time, lev, lat, lon) float32 ...\n",
      "    V2d           (time, lat, lon) float32 ...\n",
      "    VD01          (time, lev, lat, lon) float32 ...\n",
      "    VQ            (time, lev, lat, lon) float32 ...\n",
      "    VT            (time, lev, lat, lon) float32 ...\n",
      "    VTH2d         (time, lat, lon) float32 ...\n",
      "    VTH3d         (time, ilev, lat, lon) float32 ...\n",
      "    VU            (time, lev, lat, lon) float32 ...\n",
      "    VV            (time, lev, lat, lon) float32 ...\n",
      "    W2d           (time, lat, lon) float32 ...\n",
      "    WTH3d         (time, ilev, lat, lon) float32 ...\n",
      "    Z3            (time, lev, lat, lon) float32 ...\n",
      "Attributes:\n",
      "    Conventions:                     CF-1.0\n",
      "    source:                          CAM\n",
      "    case:                            cpl_1850_f19\n",
      "    title:                           UNSET\n",
      "    logname:                         br546577\n",
      "    host:                            snow-30.rit.alba\n",
      "    Version:                         $Name$\n",
      "    revision_Id:                     $Id$\n",
      "    initial_file:                    b40.1850.track1.2deg.003.cam.i.0501-01-0...\n",
      "    topography_file:                 /data/rose_scr/cesm_inputdata/atm/cam/to...\n",
      "    history:                         Tue Feb 26 17:17:15 2019: ncrcat atm/his...\n",
      "    NCO:                             4.6.8\n",
      "    nco_openmp_thread_number:        1\n",
      "    DODS.strlen:                     8\n",
      "    DODS.dimName:                    chars\n",
      "    DODS_EXTRA.Unlimited_Dimension:  time\n"
     ]
    }
   ],
   "source": [
    "atm_control = xr.open_dataset(cesm_data_path + \"cpl_1850_f19/concatenated/cpl_1850_f19.cam.h0.nc\")\n",
    "print(atm_control)"
   ]
  },
  {
   "cell_type": "markdown",
   "metadata": {},
   "source": [
    "Lots of different stuff! These are all the different quantities that are calculated as part of the model simulation. **Every quantity represents a monthly average**. \n",
    "\n",
    "Want to get more information about a particular variable?"
   ]
  },
  {
   "cell_type": "code",
   "execution_count": 17,
   "metadata": {},
   "outputs": [
    {
     "data": {
      "text/html": [
       "<pre>&lt;xarray.DataArray &#x27;co2vmr&#x27; (time: 240)&gt;\n",
       "array([0.000285, 0.000285, 0.000285, ..., 0.000285, 0.000285, 0.000285])\n",
       "Coordinates:\n",
       "  * time     (time) object 0001-02-01 00:00:00 ... 0021-01-01 00:00:00\n",
       "Attributes:\n",
       "    long_name:  co2 volume mixing ratio</pre>"
      ],
      "text/plain": [
       "<xarray.DataArray 'co2vmr' (time: 240)>\n",
       "array([0.000285, 0.000285, 0.000285, ..., 0.000285, 0.000285, 0.000285])\n",
       "Coordinates:\n",
       "  * time     (time) object 0001-02-01 00:00:00 ... 0021-01-01 00:00:00\n",
       "Attributes:\n",
       "    long_name:  co2 volume mixing ratio"
      ]
     },
     "execution_count": 17,
     "metadata": {},
     "output_type": "execute_result"
    }
   ],
   "source": [
    "atm_control.co2vmr"
   ]
  },
  {
   "cell_type": "markdown",
   "metadata": {},
   "source": [
    "This is the amount of CO2 in the atmosphere (about 285 parts per million by volume). It is prescribed in these simulations and does not change.\n",
    "\n",
    "One nice thing about `xarray.DataArray` objects is that we can do simple arithmetic with them (already seen several examples of this in the notes above). For example, change the units of CO2 amount to ppm:"
   ]
  },
  {
   "cell_type": "code",
   "execution_count": 18,
   "metadata": {},
   "outputs": [
    {
     "data": {
      "text/html": [
       "<pre>&lt;xarray.DataArray &#x27;co2vmr&#x27; (time: 240)&gt;\n",
       "array([284.7, 284.7, 284.7, 284.7, 284.7, 284.7, 284.7, 284.7, 284.7,\n",
       "       284.7, 284.7, 284.7, 284.7, 284.7, 284.7, 284.7, 284.7, 284.7,\n",
       "       284.7, 284.7, 284.7, 284.7, 284.7, 284.7, 284.7, 284.7, 284.7,\n",
       "       284.7, 284.7, 284.7, 284.7, 284.7, 284.7, 284.7, 284.7, 284.7,\n",
       "       284.7, 284.7, 284.7, 284.7, 284.7, 284.7, 284.7, 284.7, 284.7,\n",
       "       284.7, 284.7, 284.7, 284.7, 284.7, 284.7, 284.7, 284.7, 284.7,\n",
       "       284.7, 284.7, 284.7, 284.7, 284.7, 284.7, 284.7, 284.7, 284.7,\n",
       "       284.7, 284.7, 284.7, 284.7, 284.7, 284.7, 284.7, 284.7, 284.7,\n",
       "       284.7, 284.7, 284.7, 284.7, 284.7, 284.7, 284.7, 284.7, 284.7,\n",
       "       284.7, 284.7, 284.7, 284.7, 284.7, 284.7, 284.7, 284.7, 284.7,\n",
       "       284.7, 284.7, 284.7, 284.7, 284.7, 284.7, 284.7, 284.7, 284.7,\n",
       "       284.7, 284.7, 284.7, 284.7, 284.7, 284.7, 284.7, 284.7, 284.7,\n",
       "       284.7, 284.7, 284.7, 284.7, 284.7, 284.7, 284.7, 284.7, 284.7,\n",
       "       284.7, 284.7, 284.7, 284.7, 284.7, 284.7, 284.7, 284.7, 284.7,\n",
       "       284.7, 284.7, 284.7, 284.7, 284.7, 284.7, 284.7, 284.7, 284.7,\n",
       "       284.7, 284.7, 284.7, 284.7, 284.7, 284.7, 284.7, 284.7, 284.7,\n",
       "       284.7, 284.7, 284.7, 284.7, 284.7, 284.7, 284.7, 284.7, 284.7,\n",
       "       284.7, 284.7, 284.7, 284.7, 284.7, 284.7, 284.7, 284.7, 284.7,\n",
       "       284.7, 284.7, 284.7, 284.7, 284.7, 284.7, 284.7, 284.7, 284.7,\n",
       "       284.7, 284.7, 284.7, 284.7, 284.7, 284.7, 284.7, 284.7, 284.7,\n",
       "       284.7, 284.7, 284.7, 284.7, 284.7, 284.7, 284.7, 284.7, 284.7,\n",
       "       284.7, 284.7, 284.7, 284.7, 284.7, 284.7, 284.7, 284.7, 284.7,\n",
       "       284.7, 284.7, 284.7, 284.7, 284.7, 284.7, 284.7, 284.7, 284.7,\n",
       "       284.7, 284.7, 284.7, 284.7, 284.7, 284.7, 284.7, 284.7, 284.7,\n",
       "       284.7, 284.7, 284.7, 284.7, 284.7, 284.7, 284.7, 284.7, 284.7,\n",
       "       284.7, 284.7, 284.7, 284.7, 284.7, 284.7, 284.7, 284.7, 284.7,\n",
       "       284.7, 284.7, 284.7, 284.7, 284.7, 284.7])\n",
       "Coordinates:\n",
       "  * time     (time) object 0001-02-01 00:00:00 ... 0021-01-01 00:00:00</pre>"
      ],
      "text/plain": [
       "<xarray.DataArray 'co2vmr' (time: 240)>\n",
       "array([284.7, 284.7, 284.7, 284.7, 284.7, 284.7, 284.7, 284.7, 284.7,\n",
       "       284.7, 284.7, 284.7, 284.7, 284.7, 284.7, 284.7, 284.7, 284.7,\n",
       "       284.7, 284.7, 284.7, 284.7, 284.7, 284.7, 284.7, 284.7, 284.7,\n",
       "       284.7, 284.7, 284.7, 284.7, 284.7, 284.7, 284.7, 284.7, 284.7,\n",
       "       284.7, 284.7, 284.7, 284.7, 284.7, 284.7, 284.7, 284.7, 284.7,\n",
       "       284.7, 284.7, 284.7, 284.7, 284.7, 284.7, 284.7, 284.7, 284.7,\n",
       "       284.7, 284.7, 284.7, 284.7, 284.7, 284.7, 284.7, 284.7, 284.7,\n",
       "       284.7, 284.7, 284.7, 284.7, 284.7, 284.7, 284.7, 284.7, 284.7,\n",
       "       284.7, 284.7, 284.7, 284.7, 284.7, 284.7, 284.7, 284.7, 284.7,\n",
       "       284.7, 284.7, 284.7, 284.7, 284.7, 284.7, 284.7, 284.7, 284.7,\n",
       "       284.7, 284.7, 284.7, 284.7, 284.7, 284.7, 284.7, 284.7, 284.7,\n",
       "       284.7, 284.7, 284.7, 284.7, 284.7, 284.7, 284.7, 284.7, 284.7,\n",
       "       284.7, 284.7, 284.7, 284.7, 284.7, 284.7, 284.7, 284.7, 284.7,\n",
       "       284.7, 284.7, 284.7, 284.7, 284.7, 284.7, 284.7, 284.7, 284.7,\n",
       "       284.7, 284.7, 284.7, 284.7, 284.7, 284.7, 284.7, 284.7, 284.7,\n",
       "       284.7, 284.7, 284.7, 284.7, 284.7, 284.7, 284.7, 284.7, 284.7,\n",
       "       284.7, 284.7, 284.7, 284.7, 284.7, 284.7, 284.7, 284.7, 284.7,\n",
       "       284.7, 284.7, 284.7, 284.7, 284.7, 284.7, 284.7, 284.7, 284.7,\n",
       "       284.7, 284.7, 284.7, 284.7, 284.7, 284.7, 284.7, 284.7, 284.7,\n",
       "       284.7, 284.7, 284.7, 284.7, 284.7, 284.7, 284.7, 284.7, 284.7,\n",
       "       284.7, 284.7, 284.7, 284.7, 284.7, 284.7, 284.7, 284.7, 284.7,\n",
       "       284.7, 284.7, 284.7, 284.7, 284.7, 284.7, 284.7, 284.7, 284.7,\n",
       "       284.7, 284.7, 284.7, 284.7, 284.7, 284.7, 284.7, 284.7, 284.7,\n",
       "       284.7, 284.7, 284.7, 284.7, 284.7, 284.7, 284.7, 284.7, 284.7,\n",
       "       284.7, 284.7, 284.7, 284.7, 284.7, 284.7, 284.7, 284.7, 284.7,\n",
       "       284.7, 284.7, 284.7, 284.7, 284.7, 284.7, 284.7, 284.7, 284.7,\n",
       "       284.7, 284.7, 284.7, 284.7, 284.7, 284.7])\n",
       "Coordinates:\n",
       "  * time     (time) object 0001-02-01 00:00:00 ... 0021-01-01 00:00:00"
      ]
     },
     "execution_count": 18,
     "metadata": {},
     "output_type": "execute_result"
    }
   ],
   "source": [
    "atm_control.co2vmr * 1E6"
   ]
  },
  {
   "cell_type": "markdown",
   "metadata": {},
   "source": [
    "Here's another variable:"
   ]
  },
  {
   "cell_type": "code",
   "execution_count": 19,
   "metadata": {},
   "outputs": [
    {
     "data": {
      "text/html": [
       "<pre>&lt;xarray.DataArray &#x27;SOLIN&#x27; (time: 240, lat: 96, lon: 144)&gt;\n",
       "[3317760 values with dtype=float32]\n",
       "Coordinates:\n",
       "  * time     (time) object 0001-02-01 00:00:00 ... 0021-01-01 00:00:00\n",
       "  * lat      (lat) float64 -90.0 -88.11 -86.21 -84.32 ... 84.32 86.21 88.11 90.0\n",
       "  * lon      (lon) float64 0.0 2.5 5.0 7.5 10.0 ... 350.0 352.5 355.0 357.5\n",
       "Attributes:\n",
       "    Sampling_Sequence:  rad_lwsw\n",
       "    units:              W/m2\n",
       "    long_name:          Solar insolation\n",
       "    cell_methods:       time: mean</pre>"
      ],
      "text/plain": [
       "<xarray.DataArray 'SOLIN' (time: 240, lat: 96, lon: 144)>\n",
       "[3317760 values with dtype=float32]\n",
       "Coordinates:\n",
       "  * time     (time) object 0001-02-01 00:00:00 ... 0021-01-01 00:00:00\n",
       "  * lat      (lat) float64 -90.0 -88.11 -86.21 -84.32 ... 84.32 86.21 88.11 90.0\n",
       "  * lon      (lon) float64 0.0 2.5 5.0 7.5 10.0 ... 350.0 352.5 355.0 357.5\n",
       "Attributes:\n",
       "    Sampling_Sequence:  rad_lwsw\n",
       "    units:              W/m2\n",
       "    long_name:          Solar insolation\n",
       "    cell_methods:       time: mean"
      ]
     },
     "execution_count": 19,
     "metadata": {},
     "output_type": "execute_result"
    }
   ],
   "source": [
    "atm_control.SOLIN"
   ]
  },
  {
   "cell_type": "markdown",
   "metadata": {},
   "source": [
    "Apparently this is the incoming solar radiation or **insolation**, with shape (240,96,144) meaning it's got 240 months, 96 latitude points and 144 longitude points. "
   ]
  },
  {
   "cell_type": "markdown",
   "metadata": {},
   "source": [
    "___________________________\n",
    "## Exercise: Taking a time average\n",
    "____________________________"
   ]
  },
  {
   "cell_type": "markdown",
   "metadata": {},
   "source": [
    "- Take the **time average** of the `SOLIN` field. Store the result as a new variable.\n",
    "- What are the **dimensions** of the resulting data array? What would be a good way to visualize this quantity?"
   ]
  },
  {
   "cell_type": "code",
   "execution_count": 20,
   "metadata": {},
   "outputs": [
    {
     "data": {
      "text/html": [
       "<pre>&lt;xarray.DataArray &#x27;SOLIN&#x27; (lat: 96, lon: 144)&gt;\n",
       "array([[172.81734, 172.81734, 172.81734, ..., 172.81734, 172.81734,\n",
       "        172.81734],\n",
       "       [173.0204 , 173.0204 , 173.02022, ..., 173.01988, 173.02003,\n",
       "        173.02028],\n",
       "       [173.62914, 173.62895, 173.62877, ..., 173.62932, 173.6288 ,\n",
       "        173.62898],\n",
       "       ...,\n",
       "       [172.12259, 172.123  , 172.123  , ..., 172.12276, 172.12286,\n",
       "        172.12274],\n",
       "       [171.51128, 171.51137, 171.5114 , ..., 171.51158, 171.51155,\n",
       "        171.5115 ],\n",
       "       [171.30817, 171.30817, 171.30817, ..., 171.30817, 171.30817,\n",
       "        171.30817]], dtype=float32)\n",
       "Coordinates:\n",
       "  * lat      (lat) float64 -90.0 -88.11 -86.21 -84.32 ... 84.32 86.21 88.11 90.0\n",
       "  * lon      (lon) float64 0.0 2.5 5.0 7.5 10.0 ... 350.0 352.5 355.0 357.5</pre>"
      ],
      "text/plain": [
       "<xarray.DataArray 'SOLIN' (lat: 96, lon: 144)>\n",
       "array([[172.81734, 172.81734, 172.81734, ..., 172.81734, 172.81734,\n",
       "        172.81734],\n",
       "       [173.0204 , 173.0204 , 173.02022, ..., 173.01988, 173.02003,\n",
       "        173.02028],\n",
       "       [173.62914, 173.62895, 173.62877, ..., 173.62932, 173.6288 ,\n",
       "        173.62898],\n",
       "       ...,\n",
       "       [172.12259, 172.123  , 172.123  , ..., 172.12276, 172.12286,\n",
       "        172.12274],\n",
       "       [171.51128, 171.51137, 171.5114 , ..., 171.51158, 171.51155,\n",
       "        171.5115 ],\n",
       "       [171.30817, 171.30817, 171.30817, ..., 171.30817, 171.30817,\n",
       "        171.30817]], dtype=float32)\n",
       "Coordinates:\n",
       "  * lat      (lat) float64 -90.0 -88.11 -86.21 -84.32 ... 84.32 86.21 88.11 90.0\n",
       "  * lon      (lon) float64 0.0 2.5 5.0 7.5 10.0 ... 350.0 352.5 355.0 357.5"
      ]
     },
     "execution_count": 20,
     "metadata": {},
     "output_type": "execute_result"
    }
   ],
   "source": [
    "atm_control.SOLIN.mean(dim='time')"
   ]
  },
  {
   "cell_type": "markdown",
   "metadata": {},
   "source": [
    "___________________________\n",
    "## Exercise: Plotting the time average insolation\n",
    "____________________________"
   ]
  },
  {
   "cell_type": "markdown",
   "metadata": {},
   "source": [
    "1. Make a well-labeled plot of the time-averaged insolation (using the variable you stored above).\n",
    "2. Is there a way to **further reduce the dimensionality** of the data, and plot the information in a different way?\n",
    "\n",
    "Remember that you can apply the `.mean()` operation across any number of named dimensions in a data array."
   ]
  },
  {
   "cell_type": "code",
   "execution_count": null,
   "metadata": {},
   "outputs": [],
   "source": []
  },
  {
   "cell_type": "markdown",
   "metadata": {},
   "source": [
    "## Comparing the control run with the observed energy budget\n",
    "\n",
    "Recall that our investigations so far have been guided by this figure of the observed **annual, global mean energy budget**:"
   ]
  },
  {
   "cell_type": "markdown",
   "metadata": {},
   "source": [
    "![Observed global energy budget](http://www.atmos.albany.edu/facstaff/brose/classes/ENV415_Spring2018/images/GlobalEnergyBudget.png)"
   ]
  },
  {
   "cell_type": "markdown",
   "metadata": {},
   "source": [
    "___________________________\n",
    "## Exercise: Thinking about how to compute a global average\n",
    "____________________________\n",
    "\n",
    "In order to compare these numbers with the control run, **we need to take global averages** of the data. What do we mean by **global average**?\n",
    "\n",
    "Before proceeding with these notes, try to answer the following question:\n",
    "\n",
    "**Why does it not make sense to simply average over each data point on a latitude-longitude grid?**"
   ]
  },
  {
   "cell_type": "markdown",
   "metadata": {},
   "source": []
  },
  {
   "cell_type": "markdown",
   "metadata": {},
   "source": [
    "## Weighting for global average\n",
    "\n",
    "The global average needs to weighted by the area of each grid cell, which is proportional to the **cosine of latitude** (do you understand why?)\n",
    "\n",
    "We can implement this in xarray as follows:"
   ]
  },
  {
   "cell_type": "code",
   "execution_count": 21,
   "metadata": {},
   "outputs": [
    {
     "name": "stdout",
     "output_type": "stream",
     "text": [
      "<xarray.DataArray 'lat' (lat: 96)>\n",
      "array([6.12323400e-17, 3.30633693e-02, 6.60905843e-02, 9.90455303e-02,\n",
      "       1.31892171e-01, 1.64594590e-01, 1.97117027e-01, 2.29423920e-01,\n",
      "       2.61479941e-01, 2.93250037e-01, 3.24699469e-01, 3.55793847e-01,\n",
      "       3.86499169e-01, 4.16781860e-01, 4.46608807e-01, 4.75947393e-01,\n",
      "       5.04765538e-01, 5.33031729e-01, 5.60715057e-01, 5.87785252e-01,\n",
      "       6.14212713e-01, 6.39968541e-01, 6.65024572e-01, 6.89353409e-01,\n",
      "       7.12928448e-01, 7.35723911e-01, 7.57714870e-01, 7.78877279e-01,\n",
      "       7.99187997e-01, 8.18624815e-01, 8.37166478e-01, 8.54792713e-01,\n",
      "       8.71484244e-01, 8.87222819e-01, 9.01991230e-01, 9.15773327e-01,\n",
      "       9.28554038e-01, 9.40319390e-01, 9.51056516e-01, 9.60753676e-01,\n",
      "       9.69400266e-01, 9.76986831e-01, 9.83505075e-01, 9.88947871e-01,\n",
      "       9.93309266e-01, 9.96584493e-01, 9.98769969e-01, 9.99863305e-01,\n",
      "       9.99863305e-01, 9.98769969e-01, 9.96584493e-01, 9.93309266e-01,\n",
      "       9.88947871e-01, 9.83505075e-01, 9.76986831e-01, 9.69400266e-01,\n",
      "       9.60753676e-01, 9.51056516e-01, 9.40319390e-01, 9.28554038e-01,\n",
      "       9.15773327e-01, 9.01991230e-01, 8.87222819e-01, 8.71484244e-01,\n",
      "       8.54792713e-01, 8.37166478e-01, 8.18624815e-01, 7.99187997e-01,\n",
      "       7.78877279e-01, 7.57714870e-01, 7.35723911e-01, 7.12928448e-01,\n",
      "       6.89353409e-01, 6.65024572e-01, 6.39968541e-01, 6.14212713e-01,\n",
      "       5.87785252e-01, 5.60715057e-01, 5.33031729e-01, 5.04765538e-01,\n",
      "       4.75947393e-01, 4.46608807e-01, 4.16781860e-01, 3.86499169e-01,\n",
      "       3.55793847e-01, 3.24699469e-01, 2.93250037e-01, 2.61479941e-01,\n",
      "       2.29423920e-01, 1.97117027e-01, 1.64594590e-01, 1.31892171e-01,\n",
      "       9.90455303e-02, 6.60905843e-02, 3.30633693e-02, 6.12323400e-17])\n",
      "Coordinates:\n",
      "  * lat      (lat) float64 -90.0 -88.11 -86.21 -84.32 ... 84.32 86.21 88.11 90.0\n"
     ]
    }
   ],
   "source": [
    "#  Take the cosine of latitude (first converting to radians)\n",
    "coslat = np.cos(np.deg2rad(atm_control.lat))\n",
    "print(coslat)"
   ]
  },
  {
   "cell_type": "code",
   "execution_count": 22,
   "metadata": {},
   "outputs": [
    {
     "name": "stdout",
     "output_type": "stream",
     "text": [
      "<xarray.DataArray 'lat' (lat: 96)>\n",
      "array([9.72048516e-17, 5.24872953e-02, 1.04917196e-01, 1.57232372e-01,\n",
      "       2.09375617e-01, 2.61289912e-01, 3.12918491e-01, 3.64204898e-01,\n",
      "       4.15093052e-01, 4.65527308e-01, 5.15452516e-01, 5.64814085e-01,\n",
      "       6.13558038e-01, 6.61631075e-01, 7.08980627e-01, 7.55554920e-01,\n",
      "       8.01303024e-01, 8.46174915e-01, 8.90121527e-01, 9.33094803e-01,\n",
      "       9.75047755e-01, 1.01593451e+00, 1.05571035e+00, 1.09433178e+00,\n",
      "       1.13175659e+00, 1.16794383e+00, 1.20285394e+00, 1.23644875e+00,\n",
      "       1.26869152e+00, 1.29954700e+00, 1.32898144e+00, 1.35696266e+00,\n",
      "       1.38346006e+00, 1.40844466e+00, 1.43188916e+00, 1.45376790e+00,\n",
      "       1.47405697e+00, 1.49273418e+00, 1.50977911e+00, 1.52517311e+00,\n",
      "       1.53889936e+00, 1.55094285e+00, 1.56129040e+00, 1.56993071e+00,\n",
      "       1.57685432e+00, 1.58205366e+00, 1.58552305e+00, 1.58725870e+00,\n",
      "       1.58725870e+00, 1.58552305e+00, 1.58205366e+00, 1.57685432e+00,\n",
      "       1.56993071e+00, 1.56129040e+00, 1.55094285e+00, 1.53889936e+00,\n",
      "       1.52517311e+00, 1.50977911e+00, 1.49273418e+00, 1.47405697e+00,\n",
      "       1.45376790e+00, 1.43188916e+00, 1.40844466e+00, 1.38346006e+00,\n",
      "       1.35696266e+00, 1.32898144e+00, 1.29954700e+00, 1.26869152e+00,\n",
      "       1.23644875e+00, 1.20285394e+00, 1.16794383e+00, 1.13175659e+00,\n",
      "       1.09433178e+00, 1.05571035e+00, 1.01593451e+00, 9.75047755e-01,\n",
      "       9.33094803e-01, 8.90121527e-01, 8.46174915e-01, 8.01303024e-01,\n",
      "       7.55554920e-01, 7.08980627e-01, 6.61631075e-01, 6.13558038e-01,\n",
      "       5.64814085e-01, 5.15452516e-01, 4.65527308e-01, 4.15093052e-01,\n",
      "       3.64204898e-01, 3.12918491e-01, 2.61289912e-01, 2.09375617e-01,\n",
      "       1.57232372e-01, 1.04917196e-01, 5.24872953e-02, 9.72048516e-17])\n",
      "Coordinates:\n",
      "  * lat      (lat) float64 -90.0 -88.11 -86.21 -84.32 ... 84.32 86.21 88.11 90.0\n"
     ]
    }
   ],
   "source": [
    "#  And divide by its mean value\n",
    "weight_factor = coslat / coslat.mean(dim='lat') \n",
    "#  Want to see what we just created?\n",
    "print(weight_factor)"
   ]
  },
  {
   "cell_type": "code",
   "execution_count": null,
   "metadata": {},
   "outputs": [],
   "source": []
  },
  {
   "cell_type": "markdown",
   "metadata": {},
   "source": [
    "### An alternative: use weights already provided in the dataset\n",
    "\n",
    "You will find that many gridded datasets already provide a field that gives accurate area weighting.\n",
    "\n",
    "In the case of the CESM output, the field is called `gw`"
   ]
  },
  {
   "cell_type": "code",
   "execution_count": 23,
   "metadata": {},
   "outputs": [],
   "source": [
    "weight_factor2 = atm_control.gw / atm_control.gw.mean(dim='lat')"
   ]
  },
  {
   "cell_type": "code",
   "execution_count": 24,
   "metadata": {},
   "outputs": [
    {
     "data": {
      "text/html": [
       "<pre>&lt;xarray.DataArray &#x27;gw&#x27; (lat: 96)&gt;\n",
       "array([0.00656136, 0.05248012, 0.10490285, 0.15721088, 0.209347  ,\n",
       "       0.26125419, 0.31287572, 0.36415511, 0.41503631, 0.46546367,\n",
       "       0.51538206, 0.56473688, 0.61347417, 0.66154063, 0.70888371,\n",
       "       0.75545164, 0.80119349, 0.84605925, 0.88999985, 0.93296725,\n",
       "       0.97491447, 1.01579563, 1.05556604, 1.09418219, 1.13160188,\n",
       "       1.16778418, 1.20268952, 1.23627974, 1.2685181 , 1.29936936,\n",
       "       1.32879977, 1.35677717, 1.38327095, 1.40825214, 1.43169343,\n",
       "       1.45356918, 1.47385547, 1.49253013, 1.50957273, 1.52496463,\n",
       "       1.538689  , 1.55073084, 1.56107698, 1.56971611, 1.57663877,\n",
       "       1.5818374 , 1.58530632, 1.58704173, 1.58704173, 1.58530632,\n",
       "       1.5818374 , 1.57663877, 1.56971611, 1.56107698, 1.55073084,\n",
       "       1.538689  , 1.52496463, 1.50957273, 1.49253013, 1.47385547,\n",
       "       1.45356918, 1.43169343, 1.40825214, 1.38327095, 1.35677717,\n",
       "       1.32879977, 1.29936936, 1.2685181 , 1.23627974, 1.20268952,\n",
       "       1.16778418, 1.13160188, 1.09418219, 1.05556604, 1.01579563,\n",
       "       0.97491447, 0.93296725, 0.88999985, 0.84605925, 0.80119349,\n",
       "       0.75545164, 0.70888371, 0.66154063, 0.61347417, 0.56473688,\n",
       "       0.51538206, 0.46546367, 0.41503631, 0.36415511, 0.31287572,\n",
       "       0.26125419, 0.209347  , 0.15721088, 0.10490285, 0.05248012,\n",
       "       0.00656136])\n",
       "Coordinates:\n",
       "  * lat      (lat) float64 -90.0 -88.11 -86.21 -84.32 ... 84.32 86.21 88.11 90.0</pre>"
      ],
      "text/plain": [
       "<xarray.DataArray 'gw' (lat: 96)>\n",
       "array([0.00656136, 0.05248012, 0.10490285, 0.15721088, 0.209347  ,\n",
       "       0.26125419, 0.31287572, 0.36415511, 0.41503631, 0.46546367,\n",
       "       0.51538206, 0.56473688, 0.61347417, 0.66154063, 0.70888371,\n",
       "       0.75545164, 0.80119349, 0.84605925, 0.88999985, 0.93296725,\n",
       "       0.97491447, 1.01579563, 1.05556604, 1.09418219, 1.13160188,\n",
       "       1.16778418, 1.20268952, 1.23627974, 1.2685181 , 1.29936936,\n",
       "       1.32879977, 1.35677717, 1.38327095, 1.40825214, 1.43169343,\n",
       "       1.45356918, 1.47385547, 1.49253013, 1.50957273, 1.52496463,\n",
       "       1.538689  , 1.55073084, 1.56107698, 1.56971611, 1.57663877,\n",
       "       1.5818374 , 1.58530632, 1.58704173, 1.58704173, 1.58530632,\n",
       "       1.5818374 , 1.57663877, 1.56971611, 1.56107698, 1.55073084,\n",
       "       1.538689  , 1.52496463, 1.50957273, 1.49253013, 1.47385547,\n",
       "       1.45356918, 1.43169343, 1.40825214, 1.38327095, 1.35677717,\n",
       "       1.32879977, 1.29936936, 1.2685181 , 1.23627974, 1.20268952,\n",
       "       1.16778418, 1.13160188, 1.09418219, 1.05556604, 1.01579563,\n",
       "       0.97491447, 0.93296725, 0.88999985, 0.84605925, 0.80119349,\n",
       "       0.75545164, 0.70888371, 0.66154063, 0.61347417, 0.56473688,\n",
       "       0.51538206, 0.46546367, 0.41503631, 0.36415511, 0.31287572,\n",
       "       0.26125419, 0.209347  , 0.15721088, 0.10490285, 0.05248012,\n",
       "       0.00656136])\n",
       "Coordinates:\n",
       "  * lat      (lat) float64 -90.0 -88.11 -86.21 -84.32 ... 84.32 86.21 88.11 90.0"
      ]
     },
     "execution_count": 24,
     "metadata": {},
     "output_type": "execute_result"
    }
   ],
   "source": [
    "weight_factor2"
   ]
  },
  {
   "cell_type": "markdown",
   "metadata": {},
   "source": [
    "### Compute the global, time average insolation"
   ]
  },
  {
   "cell_type": "code",
   "execution_count": 25,
   "metadata": {},
   "outputs": [
    {
     "name": "stdout",
     "output_type": "stream",
     "text": [
      "<xarray.DataArray ()>\n",
      "array(340.32886375)\n",
      "<xarray.DataArray ()>\n",
      "array(340.30586262)\n"
     ]
    }
   ],
   "source": [
    "#  Compute the global, time average insolation using our two different weight factors\n",
    "#  Notice that we can apply the .mean() operation simultaneously over several dimensions!\n",
    "print( (atm_control.SOLIN * weight_factor).mean(dim=('time', 'lon', 'lat')))\n",
    "print( (atm_control.SOLIN * weight_factor2).mean(dim=('time', 'lon', 'lat')))"
   ]
  },
  {
   "cell_type": "markdown",
   "metadata": {},
   "source": [
    "These numbers should both be very close to 340.3\n",
    "\n",
    "This value is the global average insolation in units of W m$^{-2}$."
   ]
  },
  {
   "cell_type": "markdown",
   "metadata": {},
   "source": [
    "___________________________\n",
    "## Exercise: plotting a global average timeseries\n",
    "\n",
    "Plot a **timeseries** of the **global average surface temperature** in the control simulation.\n",
    "\n",
    "Surface temperature is called `'TS'` in the dataset.\n",
    "\n",
    "Make a plot of the global average `TS` with time on the x axis. *Make sure your global average is properly weighted as discussed above.*\n",
    "____________________________"
   ]
  },
  {
   "cell_type": "code",
   "execution_count": 26,
   "metadata": {},
   "outputs": [
    {
     "data": {
      "text/html": [
       "<pre>&lt;xarray.DataArray (time: 240)&gt;\n",
       "array([285.72898682, 285.49401299, 286.27904211, 287.41386972,\n",
       "       288.27003459, 289.09844124, 289.31503214, 289.14779089,\n",
       "       288.48446959, 287.43825379, 286.30005108, 285.4822201 ,\n",
       "       285.52587345, 285.70978305, 286.51907145, 287.39663259,\n",
       "       288.43036138, 289.27239843, 289.49334981, 289.2270018 ,\n",
       "       288.56324199, 287.45506122, 286.36152137, 285.68297431,\n",
       "       285.64115059, 286.02903336, 286.66517814, 287.57771538,\n",
       "       288.5114103 , 289.15209553, 289.58562369, 289.51435914,\n",
       "       288.63846921, 287.62349476, 286.53952026, 285.71252715,\n",
       "       285.37900612, 285.68432086, 286.42280295, 287.53516323,\n",
       "       288.52624785, 289.36963343, 289.70397247, 289.38845523,\n",
       "       288.56153317, 287.61485545, 286.58915711, 286.02656523,\n",
       "       285.6876509 , 285.80444733, 286.77147652, 287.6000804 ,\n",
       "       288.47466646, 289.30900949, 289.54640526, 289.27115635,\n",
       "       288.60119008, 287.59500245, 286.47227001, 285.94176738,\n",
       "       285.50164567, 286.04132674, 286.69947865, 287.55425306,\n",
       "       288.51615009, 289.240104  , 289.53590774, 289.28245353,\n",
       "       288.4526808 , 287.4798987 , 286.32498383, 285.64667703,\n",
       "       285.53638463, 285.85984702, 286.48845149, 287.36777131,\n",
       "       288.34274536, 289.12537178, 289.46937558, 289.41924937,\n",
       "       288.61655765, 287.40151533, 286.28782655, 285.79730328,\n",
       "       285.47434696, 285.83371116, 286.68937901, 287.58281369,\n",
       "       288.48305642, 289.17915338, 289.56414738, 289.3474457 ,\n",
       "       288.5188223 , 287.46706499, 286.57005838, 285.85468223,\n",
       "       285.81704907, 285.87627279, 286.66344963, 287.70857528,\n",
       "       288.67857469, 289.50675421, 289.71547988, 289.50590308,\n",
       "       288.66520361, 287.7337405 , 286.82450202, 285.86399544,\n",
       "       285.64840642, 286.38554112, 286.81263946, 287.625683  ,\n",
       "       288.60214053, 289.38637745, 289.69951028, 289.50196295,\n",
       "       288.5890091 , 287.66726678, 286.52647044, 285.71431708,\n",
       "       285.59343165, 285.81193535, 286.46563041, 287.4109196 ,\n",
       "       288.4213604 , 289.07636063, 289.26782103, 289.2508547 ,\n",
       "       288.43152749, 287.32427766, 286.3678477 , 285.70483342,\n",
       "       285.43503691, 285.59956313, 286.38100501, 287.39582532,\n",
       "       288.47340893, 289.1211484 , 289.50444345, 289.37257943,\n",
       "       288.48567965, 287.51407854, 286.28164917, 285.7628817 ,\n",
       "       285.55357891, 285.74468361, 286.57943169, 287.35649233,\n",
       "       288.49574888, 289.29506616, 289.49529077, 289.35187822,\n",
       "       288.34844953, 287.55571738, 286.48258892, 285.79633138,\n",
       "       285.76017025, 286.03802836, 286.6773511 , 287.56888471,\n",
       "       288.66900064, 289.31232564, 289.71310487, 289.44685327,\n",
       "       288.71353149, 287.64889492, 286.73669719, 285.88254536,\n",
       "       285.93817813, 286.05794423, 286.63321729, 287.70598391,\n",
       "       288.73680573, 289.24659283, 289.6523757 , 289.31808086,\n",
       "       288.48550632, 287.3645237 , 286.46258606, 285.84163214,\n",
       "       285.38701708, 285.81055181, 286.62392007, 287.61150279,\n",
       "       288.43171261, 289.12028406, 289.4036265 , 289.16730135,\n",
       "       288.38935887, 287.26655169, 286.38843632, 285.56931263,\n",
       "       285.34475367, 285.70284077, 286.53049737, 287.37161667,\n",
       "       288.31928104, 288.98644684, 289.40416911, 289.18403561,\n",
       "       288.53231764, 287.34320592, 286.2297441 , 285.59461117,\n",
       "       285.26074355, 285.66897701, 286.59709518, 287.33668608,\n",
       "       288.406746  , 289.1222094 , 289.49321334, 289.45735775,\n",
       "       288.57569049, 287.47754096, 286.72450398, 286.1310169 ,\n",
       "       285.91070994, 286.24678875, 286.69563966, 287.79494103,\n",
       "       288.87472496, 289.55314895, 289.76593884, 289.43723345,\n",
       "       288.66578906, 287.63208369, 286.60205948, 286.15867963,\n",
       "       285.85908296, 285.81623454, 286.62021016, 287.67040383,\n",
       "       288.6576103 , 289.17532218, 289.57529292, 289.43251147,\n",
       "       288.62634617, 287.4513469 , 286.34874094, 285.93312728])\n",
       "Coordinates:\n",
       "  * time     (time) object 0001-02-01 00:00:00 ... 0021-01-01 00:00:00</pre>"
      ],
      "text/plain": [
       "<xarray.DataArray (time: 240)>\n",
       "array([285.72898682, 285.49401299, 286.27904211, 287.41386972,\n",
       "       288.27003459, 289.09844124, 289.31503214, 289.14779089,\n",
       "       288.48446959, 287.43825379, 286.30005108, 285.4822201 ,\n",
       "       285.52587345, 285.70978305, 286.51907145, 287.39663259,\n",
       "       288.43036138, 289.27239843, 289.49334981, 289.2270018 ,\n",
       "       288.56324199, 287.45506122, 286.36152137, 285.68297431,\n",
       "       285.64115059, 286.02903336, 286.66517814, 287.57771538,\n",
       "       288.5114103 , 289.15209553, 289.58562369, 289.51435914,\n",
       "       288.63846921, 287.62349476, 286.53952026, 285.71252715,\n",
       "       285.37900612, 285.68432086, 286.42280295, 287.53516323,\n",
       "       288.52624785, 289.36963343, 289.70397247, 289.38845523,\n",
       "       288.56153317, 287.61485545, 286.58915711, 286.02656523,\n",
       "       285.6876509 , 285.80444733, 286.77147652, 287.6000804 ,\n",
       "       288.47466646, 289.30900949, 289.54640526, 289.27115635,\n",
       "       288.60119008, 287.59500245, 286.47227001, 285.94176738,\n",
       "       285.50164567, 286.04132674, 286.69947865, 287.55425306,\n",
       "       288.51615009, 289.240104  , 289.53590774, 289.28245353,\n",
       "       288.4526808 , 287.4798987 , 286.32498383, 285.64667703,\n",
       "       285.53638463, 285.85984702, 286.48845149, 287.36777131,\n",
       "       288.34274536, 289.12537178, 289.46937558, 289.41924937,\n",
       "       288.61655765, 287.40151533, 286.28782655, 285.79730328,\n",
       "       285.47434696, 285.83371116, 286.68937901, 287.58281369,\n",
       "       288.48305642, 289.17915338, 289.56414738, 289.3474457 ,\n",
       "       288.5188223 , 287.46706499, 286.57005838, 285.85468223,\n",
       "       285.81704907, 285.87627279, 286.66344963, 287.70857528,\n",
       "       288.67857469, 289.50675421, 289.71547988, 289.50590308,\n",
       "       288.66520361, 287.7337405 , 286.82450202, 285.86399544,\n",
       "       285.64840642, 286.38554112, 286.81263946, 287.625683  ,\n",
       "       288.60214053, 289.38637745, 289.69951028, 289.50196295,\n",
       "       288.5890091 , 287.66726678, 286.52647044, 285.71431708,\n",
       "       285.59343165, 285.81193535, 286.46563041, 287.4109196 ,\n",
       "       288.4213604 , 289.07636063, 289.26782103, 289.2508547 ,\n",
       "       288.43152749, 287.32427766, 286.3678477 , 285.70483342,\n",
       "       285.43503691, 285.59956313, 286.38100501, 287.39582532,\n",
       "       288.47340893, 289.1211484 , 289.50444345, 289.37257943,\n",
       "       288.48567965, 287.51407854, 286.28164917, 285.7628817 ,\n",
       "       285.55357891, 285.74468361, 286.57943169, 287.35649233,\n",
       "       288.49574888, 289.29506616, 289.49529077, 289.35187822,\n",
       "       288.34844953, 287.55571738, 286.48258892, 285.79633138,\n",
       "       285.76017025, 286.03802836, 286.6773511 , 287.56888471,\n",
       "       288.66900064, 289.31232564, 289.71310487, 289.44685327,\n",
       "       288.71353149, 287.64889492, 286.73669719, 285.88254536,\n",
       "       285.93817813, 286.05794423, 286.63321729, 287.70598391,\n",
       "       288.73680573, 289.24659283, 289.6523757 , 289.31808086,\n",
       "       288.48550632, 287.3645237 , 286.46258606, 285.84163214,\n",
       "       285.38701708, 285.81055181, 286.62392007, 287.61150279,\n",
       "       288.43171261, 289.12028406, 289.4036265 , 289.16730135,\n",
       "       288.38935887, 287.26655169, 286.38843632, 285.56931263,\n",
       "       285.34475367, 285.70284077, 286.53049737, 287.37161667,\n",
       "       288.31928104, 288.98644684, 289.40416911, 289.18403561,\n",
       "       288.53231764, 287.34320592, 286.2297441 , 285.59461117,\n",
       "       285.26074355, 285.66897701, 286.59709518, 287.33668608,\n",
       "       288.406746  , 289.1222094 , 289.49321334, 289.45735775,\n",
       "       288.57569049, 287.47754096, 286.72450398, 286.1310169 ,\n",
       "       285.91070994, 286.24678875, 286.69563966, 287.79494103,\n",
       "       288.87472496, 289.55314895, 289.76593884, 289.43723345,\n",
       "       288.66578906, 287.63208369, 286.60205948, 286.15867963,\n",
       "       285.85908296, 285.81623454, 286.62021016, 287.67040383,\n",
       "       288.6576103 , 289.17532218, 289.57529292, 289.43251147,\n",
       "       288.62634617, 287.4513469 , 286.34874094, 285.93312728])\n",
       "Coordinates:\n",
       "  * time     (time) object 0001-02-01 00:00:00 ... 0021-01-01 00:00:00"
      ]
     },
     "execution_count": 26,
     "metadata": {},
     "output_type": "execute_result"
    }
   ],
   "source": [
    "TSglobal = (atm_control.TS * weight_factor).mean(dim=('lon','lat'))\n",
    "TSglobal"
   ]
  },
  {
   "cell_type": "code",
   "execution_count": 27,
   "metadata": {},
   "outputs": [
    {
     "data": {
      "text/plain": [
       "[<matplotlib.lines.Line2D at 0x11a724a60>]"
      ]
     },
     "execution_count": 27,
     "metadata": {},
     "output_type": "execute_result"
    },
    {
     "data": {
      "image/png": "[encoded data removed]",
      "text/plain": [
       "<Figure size 432x288 with 1 Axes>"
      ]
     },
     "metadata": {
      "needs_background": "light"
     },
     "output_type": "display_data"
    }
   ],
   "source": [
    "TSglobal.plot()"
   ]
  },
  {
   "cell_type": "markdown",
   "metadata": {},
   "source": [
    "### Discussion point\n",
    "\n",
    "What do you see in this graph? Do you have any ideas about why the global average temperature looks like this?\n",
    "\n",
    "Also, what is the **time average** global-average surface temperature in this simulation?"
   ]
  },
  {
   "cell_type": "code",
   "execution_count": 28,
   "metadata": {},
   "outputs": [
    {
     "data": {
      "text/html": [
       "<pre>&lt;xarray.DataArray ()&gt;\n",
       "array(287.54590571)</pre>"
      ],
      "text/plain": [
       "<xarray.DataArray ()>\n",
       "array(287.54590571)"
      ]
     },
     "execution_count": 28,
     "metadata": {},
     "output_type": "execute_result"
    }
   ],
   "source": [
    "TSglobal.mean(dim='time')"
   ]
  },
  {
   "cell_type": "markdown",
   "metadata": {},
   "source": [
    "### Finding the radiative fluxes in the model output\n",
    "\n",
    "Now that you can take global averages and time averages, we can compare some energy budget values against observations.\n",
    "\n",
    "The model output contains lots of diagnostics about the radiative fluxes. Here are some CESM naming conventions to help you find the appropriate output fields:\n",
    "\n",
    "- All variables whose names being with `'F'` are an **energy flux** of some kind. \n",
    "- Most have a four-letter code, e.g. `'FLNT'`\n",
    "- `'FL'` means **longwave flux** (i.e. terrestrial)\n",
    "- `'FS'` means **shortwave flux** (i.e. solar)\n",
    "- The third letter indicates **direction** of the flux:\n",
    "    - `'U'` = up\n",
    "    - `'D'` = down\n",
    "    - `'N'` = net\n",
    "- The fourth letter indicates the **location** of the flux:\n",
    "    - `'T'` = top of atmosphere\n",
    "    - `'S'` = surface\n",
    "- So `'FLNT'` means 'net longwave flux at the top of atmosphere', i.e. the outgoing longwave radiation or OLR.\n",
    "\n",
    "You wil see that these are all 240 x 96 x 144 -- i.e. a two-dimensional grid for every month in the simulation."
   ]
  },
  {
   "cell_type": "code",
   "execution_count": 29,
   "metadata": {},
   "outputs": [
    {
     "data": {
      "text/html": [
       "<pre>&lt;xarray.DataArray &#x27;FLNT&#x27; (time: 240, lat: 96, lon: 144)&gt;\n",
       "[3317760 values with dtype=float32]\n",
       "Coordinates:\n",
       "  * time     (time) object 0001-02-01 00:00:00 ... 0021-01-01 00:00:00\n",
       "  * lat      (lat) float64 -90.0 -88.11 -86.21 -84.32 ... 84.32 86.21 88.11 90.0\n",
       "  * lon      (lon) float64 0.0 2.5 5.0 7.5 10.0 ... 350.0 352.5 355.0 357.5\n",
       "Attributes:\n",
       "    Sampling_Sequence:  rad_lwsw\n",
       "    units:              W/m2\n",
       "    long_name:          Net longwave flux at top of model\n",
       "    cell_methods:       time: mean</pre>"
      ],
      "text/plain": [
       "<xarray.DataArray 'FLNT' (time: 240, lat: 96, lon: 144)>\n",
       "[3317760 values with dtype=float32]\n",
       "Coordinates:\n",
       "  * time     (time) object 0001-02-01 00:00:00 ... 0021-01-01 00:00:00\n",
       "  * lat      (lat) float64 -90.0 -88.11 -86.21 -84.32 ... 84.32 86.21 88.11 90.0\n",
       "  * lon      (lon) float64 0.0 2.5 5.0 7.5 10.0 ... 350.0 352.5 355.0 357.5\n",
       "Attributes:\n",
       "    Sampling_Sequence:  rad_lwsw\n",
       "    units:              W/m2\n",
       "    long_name:          Net longwave flux at top of model\n",
       "    cell_methods:       time: mean"
      ]
     },
     "execution_count": 29,
     "metadata": {},
     "output_type": "execute_result"
    }
   ],
   "source": [
    "atm_control.FLNT"
   ]
  },
  {
   "cell_type": "markdown",
   "metadata": {},
   "source": [
    "__________________________\n",
    "## Exercise: compute terms in the planetary energy budget\n",
    "\n",
    "Compute annual, global averages of the following four quantities. \n",
    "\n",
    "1. Incoming solar radiation (or insolation)\n",
    "2. Absorbed solar radiation (ASR)\n",
    "3. Planetary albedo *(remember this is a **ratio** of outgoing to incoming solar radiation)*\n",
    "4. Outgoing longwave radiation (OLR)\n",
    "\n",
    "Compare your results briefly to the observations.\n",
    "____________________________"
   ]
  },
  {
   "cell_type": "code",
   "execution_count": null,
   "metadata": {},
   "outputs": [],
   "source": []
  },
  {
   "cell_type": "markdown",
   "metadata": {},
   "source": [
    "## A few more tidbits\n",
    "\n",
    "Feel free to keep exploring the data!\n",
    "\n",
    "Many other fields are four-dimensional (time, level, latitude, longitude). \n",
    "\n",
    "For example, here the **air temperature** at every point and every month:"
   ]
  },
  {
   "cell_type": "code",
   "execution_count": 30,
   "metadata": {},
   "outputs": [
    {
     "data": {
      "text/html": [
       "<pre>&lt;xarray.DataArray &#x27;T&#x27; (time: 240, lev: 26, lat: 96, lon: 144)&gt;\n",
       "[86261760 values with dtype=float32]\n",
       "Coordinates:\n",
       "  * lev      (lev) float64 3.545 7.389 13.97 23.94 ... 867.2 929.6 970.6 992.6\n",
       "  * time     (time) object 0001-02-01 00:00:00 ... 0021-01-01 00:00:00\n",
       "  * lat      (lat) float64 -90.0 -88.11 -86.21 -84.32 ... 84.32 86.21 88.11 90.0\n",
       "  * lon      (lon) float64 0.0 2.5 5.0 7.5 10.0 ... 350.0 352.5 355.0 357.5\n",
       "Attributes:\n",
       "    mdims:         1\n",
       "    units:         K\n",
       "    long_name:     Temperature\n",
       "    cell_methods:  time: mean</pre>"
      ],
      "text/plain": [
       "<xarray.DataArray 'T' (time: 240, lev: 26, lat: 96, lon: 144)>\n",
       "[86261760 values with dtype=float32]\n",
       "Coordinates:\n",
       "  * lev      (lev) float64 3.545 7.389 13.97 23.94 ... 867.2 929.6 970.6 992.6\n",
       "  * time     (time) object 0001-02-01 00:00:00 ... 0021-01-01 00:00:00\n",
       "  * lat      (lat) float64 -90.0 -88.11 -86.21 -84.32 ... 84.32 86.21 88.11 90.0\n",
       "  * lon      (lon) float64 0.0 2.5 5.0 7.5 10.0 ... 350.0 352.5 355.0 357.5\n",
       "Attributes:\n",
       "    mdims:         1\n",
       "    units:         K\n",
       "    long_name:     Temperature\n",
       "    cell_methods:  time: mean"
      ]
     },
     "execution_count": 30,
     "metadata": {},
     "output_type": "execute_result"
    }
   ],
   "source": [
    "atm_control.T"
   ]
  },
  {
   "cell_type": "markdown",
   "metadata": {},
   "source": [
    "Often we want to sample the data **at a particular place and time**. xarray gives us simple ways to do that.\n",
    "\n",
    "For example, we can **interpolate** to a particular location in latitude and longitude (here it's the coordinates of Albany NY):"
   ]
  },
  {
   "cell_type": "code",
   "execution_count": 31,
   "metadata": {},
   "outputs": [
    {
     "name": "stdout",
     "output_type": "stream",
     "text": [
      "<xarray.DataArray 'T' (time: 240, lev: 26)>\n",
      "array([[231.55347435, 230.88840778, 225.30258457, ..., 268.2404776 ,\n",
      "        269.52409576, 269.43490089],\n",
      "       [228.10008728, 223.95615376, 221.31091049, ..., 274.1026815 ,\n",
      "        275.9925309 , 275.95261742],\n",
      "       [233.83040749, 227.64979877, 222.90131077, ..., 273.13557961,\n",
      "        275.45856834, 276.13333687],\n",
      "       ...,\n",
      "       [232.50221451, 228.86013168, 225.24411854, ..., 285.83419807,\n",
      "        288.1594445 , 287.90178192],\n",
      "       [224.24851162, 221.39988674, 219.95343647, ..., 277.54828316,\n",
      "        279.91035378, 279.59760986],\n",
      "       [220.30998913, 218.22460804, 217.92282791, ..., 268.73481789,\n",
      "        270.65231613, 270.98946404]])\n",
      "Coordinates:\n",
      "  * lev      (lev) float64 3.545 7.389 13.97 23.94 ... 867.2 929.6 970.6 992.6\n",
      "  * time     (time) object 0001-02-01 00:00:00 ... 0021-01-01 00:00:00\n",
      "    lat      float64 42.75\n",
      "    lon      float64 286.2\n",
      "Attributes:\n",
      "    mdims:         1\n",
      "    units:         K\n",
      "    long_name:     Temperature\n",
      "    cell_methods:  time: mean\n"
     ]
    }
   ],
   "source": [
    "Tlocal = atm_control.T.interp(lat=42.75, lon=(360-73.8))\n",
    "print(Tlocal)"
   ]
  },
  {
   "cell_type": "markdown",
   "metadata": {},
   "source": [
    "We can also use **time indexing** to pick out a particular year and month:"
   ]
  },
  {
   "cell_type": "code",
   "execution_count": 32,
   "metadata": {},
   "outputs": [
    {
     "data": {
      "text/html": [
       "<pre>&lt;xarray.DataArray &#x27;T&#x27; (time: 1, lev: 26)&gt;\n",
       "array([[222.22812035, 218.28293472, 216.42282665, 215.97889965,\n",
       "        216.2183744 , 215.51508125, 214.45609436, 212.85779438,\n",
       "        212.8932338 , 213.25322216, 213.16839024, 213.62496151,\n",
       "        214.18230812, 216.96137932, 222.24211334, 228.96922817,\n",
       "        236.70113045, 244.78092411, 252.25793308, 258.92818031,\n",
       "        263.91473778, 266.81556206, 268.95294579, 268.96147919,\n",
       "        270.59828033, 270.51311325]])\n",
       "Coordinates:\n",
       "  * lev      (lev) float64 3.545 7.389 13.97 23.94 ... 867.2 929.6 970.6 992.6\n",
       "  * time     (time) object 0020-01-01 00:00:00\n",
       "    lat      float64 42.75\n",
       "    lon      float64 286.2\n",
       "Attributes:\n",
       "    mdims:         1\n",
       "    units:         K\n",
       "    long_name:     Temperature\n",
       "    cell_methods:  time: mean</pre>"
      ],
      "text/plain": [
       "<xarray.DataArray 'T' (time: 1, lev: 26)>\n",
       "array([[222.22812035, 218.28293472, 216.42282665, 215.97889965,\n",
       "        216.2183744 , 215.51508125, 214.45609436, 212.85779438,\n",
       "        212.8932338 , 213.25322216, 213.16839024, 213.62496151,\n",
       "        214.18230812, 216.96137932, 222.24211334, 228.96922817,\n",
       "        236.70113045, 244.78092411, 252.25793308, 258.92818031,\n",
       "        263.91473778, 266.81556206, 268.95294579, 268.96147919,\n",
       "        270.59828033, 270.51311325]])\n",
       "Coordinates:\n",
       "  * lev      (lev) float64 3.545 7.389 13.97 23.94 ... 867.2 929.6 970.6 992.6\n",
       "  * time     (time) object 0020-01-01 00:00:00\n",
       "    lat      float64 42.75\n",
       "    lon      float64 286.2\n",
       "Attributes:\n",
       "    mdims:         1\n",
       "    units:         K\n",
       "    long_name:     Temperature\n",
       "    cell_methods:  time: mean"
      ]
     },
     "execution_count": 32,
     "metadata": {},
     "output_type": "execute_result"
    }
   ],
   "source": [
    "#  The .sel notation mean \"select\" along the given coordinate\n",
    "#  The string that follows is year-month. Our simulation begins in year 0001.\n",
    "Tlocal.sel(time='0020-01')  # a particular January"
   ]
  },
  {
   "cell_type": "markdown",
   "metadata": {},
   "source": [
    "Now, for example, we can plot the temperature as a function of pressure at this place and time:"
   ]
  },
  {
   "cell_type": "code",
   "execution_count": 33,
   "metadata": {},
   "outputs": [
    {
     "data": {
      "text/plain": [
       "[<matplotlib.lines.Line2D at 0x124cf1b50>]"
      ]
     },
     "execution_count": 33,
     "metadata": {},
     "output_type": "execute_result"
    },
    {
     "data": {
      "image/png": "[encoded data removed]",
      "text/plain": [
       "<Figure size 432x288 with 1 Axes>"
      ]
     },
     "metadata": {
      "needs_background": "light"
     },
     "output_type": "display_data"
    }
   ],
   "source": [
    "Tlocal.sel(time='0020-01').plot()"
   ]
  },
  {
   "cell_type": "markdown",
   "metadata": {},
   "source": [
    "____________\n",
    "\n",
    "## Credits\n",
    "\n",
    "This notebook is part of [The Climate Laboratory](https://brian-rose.github.io/ClimateLaboratoryBook), an open-source textbook developed and maintained by [Brian E. J. Rose](http://www.atmos.albany.edu/facstaff/brose/index.html), University at Albany.\n",
    "\n",
    "It is licensed for free and open consumption under the\n",
    "[Creative Commons Attribution 4.0 International (CC BY 4.0)](https://creativecommons.org/licenses/by/4.0/) license.\n",
    "\n",
    "Development of these notes and the [climlab software](https://github.com/brian-rose/climlab) is partially supported by the National Science Foundation under award AGS-1455071 to Brian Rose. Any opinions, findings, conclusions or recommendations expressed here are mine and do not necessarily reflect the views of the National Science Foundation.\n",
    "____________"
   ]
  },
  {
   "cell_type": "code",
   "execution_count": null,
   "metadata": {},
   "outputs": [],
   "source": []
  }
 ],
 "metadata": {
  "kernelspec": {
   "display_name": "Python 3",
   "language": "python",
   "name": "python3"
  },
  "language_info": {
   "codemirror_mode": {
    "name": "ipython",
    "version": 3
   },
   "file_extension": ".py",
   "mimetype": "text/x-python",
   "name": "python",
   "nbconvert_exporter": "python",
   "pygments_lexer": "ipython3",
   "version": "3.8.1"
  }
 },
 "nbformat": 4,
 "nbformat_minor": 2
}
